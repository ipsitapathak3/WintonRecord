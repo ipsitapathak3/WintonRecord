{
  "nbformat": 4,
  "nbformat_minor": 0,
  "metadata": {
    "colab": {
      "name": "winton1.ipynb",
      "version": "0.3.2",
      "provenance": [],
      "collapsed_sections": []
    },
    "kernelspec": {
      "name": "python3",
      "display_name": "Python 3"
    },
    "accelerator": "GPU"
  },
  "cells": [
    {
      "cell_type": "code",
      "metadata": {
        "id": "Jr4rxCpl50az",
        "colab_type": "code",
        "colab": {}
      },
      "source": [
        "import numpy as np\n",
        "import pandas\n",
        "from keras.models import Sequential\n",
        "from keras.layers import Dense\n",
        "from keras.wrappers.scikit_learn import KerasRegressor\n",
        "from sklearn.model_selection import cross_val_score\n",
        "from sklearn.model_selection import KFold\n",
        "from sklearn.preprocessing import StandardScaler\n",
        "from sklearn.pipeline import Pipeline"
      ],
      "execution_count": 0,
      "outputs": []
    },
    {
      "cell_type": "code",
      "metadata": {
        "id": "1U1vAW-T50a6",
        "colab_type": "code",
        "colab": {}
      },
      "source": [
        "dataset = pandas.read_csv(\"train.csv\")\n",
        "dataset.fillna(dataset.mean(axis=0), inplace= True)"
      ],
      "execution_count": 0,
      "outputs": []
    },
    {
      "cell_type": "code",
      "metadata": {
        "id": "RVUCdA-_50bB",
        "colab_type": "code",
        "colab": {}
      },
      "source": [
        "X = dataset.iloc[:,1:27]\n",
        "#skipping Id in input\n",
        "Y = dataset.iloc[:,85]"
      ],
      "execution_count": 0,
      "outputs": []
    },
    {
      "cell_type": "code",
      "metadata": {
        "id": "sdCgAZaA50bH",
        "colab_type": "code",
        "colab": {}
      },
      "source": [
        "#dataset.values"
      ],
      "execution_count": 0,
      "outputs": []
    },
    {
      "cell_type": "code",
      "metadata": {
        "id": "sbWTj3yH50bL",
        "colab_type": "code",
        "colab": {}
      },
      "source": [
        "#Normalization\n",
        "#X.head()"
      ],
      "execution_count": 0,
      "outputs": []
    },
    {
      "cell_type": "code",
      "metadata": {
        "id": "ZxY9qAJL9xtv",
        "colab_type": "code",
        "colab": {}
      },
      "source": [
        "from sklearn import preprocessing"
      ],
      "execution_count": 0,
      "outputs": []
    },
    {
      "cell_type": "code",
      "metadata": {
        "id": "7vrlg1NS50bV",
        "colab_type": "code",
        "colab": {}
      },
      "source": [
        "\"\"\"x = X.values #returns a numpy array\n",
        "min_max_scaler = preprocessing.MinMaxScaler()\n",
        "x_scaled = min_max_scaler.fit_transform(x)\n",
        "X = pandas.DataFrame(x_scaled)\n",
        "#Normalizing Y\n",
        "def arrayNormalization(array):\n",
        "  x = abs(array.max(axis=0))\n",
        "  y = abs(array.min(axis = 0))\n",
        "  #arr=[]\n",
        "  for i in range (len(array) - 1):\n",
        "    array[i] = abs(array[i]) - y / (x-y)\n",
        "    #arr = np.insert(arr,i,n)\n",
        "  return array\n",
        "  \n",
        "Y = arrayNormalization(Y.values)\"\"\"\n"
      ],
      "execution_count": 0,
      "outputs": []
    },
    {
      "cell_type": "code",
      "metadata": {
        "id": "m0JvguCa50bY",
        "colab_type": "code",
        "colab": {}
      },
      "source": [
        "#Y.head()"
      ],
      "execution_count": 0,
      "outputs": []
    },
    {
      "cell_type": "code",
      "metadata": {
        "id": "2oQ2OF1B50bd",
        "colab_type": "code",
        "colab": {
          "base_uri": "https://localhost:8080/",
          "height": 139
        },
        "outputId": "01f46c90-bc5e-4217-babd-66d6bd8b432e"
      },
      "source": [
        "#1\n",
        "def baseline_model():\n",
        "    model = Sequential()\n",
        "    model.add(Dense(26, input_dim=26, kernel_initializer='normal', activation='relu'))\n",
        "    model.add(Dense(1, kernel_initializer='normal'))\n",
        "\n",
        "    model.compile(loss='mean_squared_error', optimizer='adam')\n",
        "    return model\n",
        "seed = 7\n",
        "np.random.seed(seed)\n",
        "estimator = KerasRegressor(build_fn=baseline_model, epochs=100, batch_size=5, verbose=0)\n",
        "kfold = KFold(n_splits=10, random_state=seed)\n",
        "results = cross_val_score(estimator, X.values, Y.values, cv=kfold)"
      ],
      "execution_count": 15,
      "outputs": [
        {
          "output_type": "stream",
          "text": [
            "WARNING:tensorflow:From /usr/local/lib/python3.6/dist-packages/tensorflow/python/framework/op_def_library.py:263: colocate_with (from tensorflow.python.framework.ops) is deprecated and will be removed in a future version.\n",
            "Instructions for updating:\n",
            "Colocations handled automatically by placer.\n",
            "WARNING:tensorflow:From /usr/local/lib/python3.6/dist-packages/tensorflow/python/ops/math_ops.py:3066: to_int32 (from tensorflow.python.ops.math_ops) is deprecated and will be removed in a future version.\n",
            "Instructions for updating:\n",
            "Use tf.cast instead.\n"
          ],
          "name": "stdout"
        }
      ]
    },
    {
      "cell_type": "code",
      "metadata": {
        "id": "ZcXl_cQE50bi",
        "colab_type": "code",
        "colab": {
          "base_uri": "https://localhost:8080/",
          "height": 34
        },
        "outputId": "da0304cc-dfa7-47b0-fd8d-f9d613a380c0"
      },
      "source": [
        "print(\"Results: %.2f (%.2f) MSE\" % (results.mean(), results.std()))"
      ],
      "execution_count": 16,
      "outputs": [
        {
          "output_type": "stream",
          "text": [
            "Results: -8.08 (22.50) MSE\n"
          ],
          "name": "stdout"
        }
      ]
    },
    {
      "cell_type": "code",
      "metadata": {
        "id": "lw3RvSeCRbQQ",
        "colab_type": "code",
        "colab": {}
      },
      "source": [
        "\"\"\"#Standardizing the data, taken data that hasnt been normalized\n",
        "np.random.seed(seed)\n",
        "estimators=[]\n",
        "estimators.append(('standardize',StandardScaler()))\n",
        "estimators.append(('mlp',KerasRegressor(build_fn=baseline_model, epochs=100, batch_size=5, verbose=0)))\n",
        "pipeline = Pipeline(estimators)\n",
        "kfold = KFold(n_splits=10,random_state=seed)\n",
        "results= cross_val_score(pipeline,X,Y,cv=kfold)\n",
        "print(\"Results: %.2f (%.2f) MSE\" % (results.mean(), results.std()))\"\"\""
      ],
      "execution_count": 0,
      "outputs": []
    },
    {
      "cell_type": "code",
      "metadata": {
        "id": "XkBC4iypYqlW",
        "colab_type": "code",
        "colab": {}
      },
      "source": [
        "# Deeper topology\n",
        "def model_large():\n",
        "    model = Sequential()\n",
        "    model.add(Dense(26, input_dim=26, kernel_initializer='normal', activation='relu'))\n",
        "    model.add(Dense(13, kernel_initializer='normal'))\n",
        "    model.add(Dense(6, kernel_initializer='normal'))\n",
        "    model.add(Dense(1, kernel_initializer='normal'))\n",
        "\n",
        "    model.compile(loss='mean_squared_error', optimizer='adam')\n",
        "    return model\n",
        "seed = 7\n",
        "np.random.seed(seed)\n",
        "estimators=[]\n",
        "estimators.append(('standardize',StandardScaler()))\n",
        "estimators.append(('mlp',KerasRegressor(build_fn=baseline_model, epochs=100, batch_size=5, verbose=0)))\n",
        "pipeline = Pipeline(estimators)\n",
        "kfold = KFold(n_splits=10,random_state=seed)"
      ],
      "execution_count": 0,
      "outputs": []
    },
    {
      "cell_type": "code",
      "metadata": {
        "id": "OV9OOeq2Y6J3",
        "colab_type": "code",
        "colab": {
          "base_uri": "https://localhost:8080/",
          "height": 34
        },
        "outputId": "d455a11d-a12f-4ac3-b9ff-9d622065ad00"
      },
      "source": [
        "results= cross_val_score(pipeline,X,Y,cv=kfold)\n",
        "print(\"Results: %.2f (%.2f) MSE\" % (results.mean(), results.std()))"
      ],
      "execution_count": 18,
      "outputs": [
        {
          "output_type": "stream",
          "text": [
            "Results: -0.02 (0.07) MSE\n"
          ],
          "name": "stdout"
        }
      ]
    },
    {
      "cell_type": "code",
      "metadata": {
        "id": "ryoZTQxAZA7d",
        "colab_type": "code",
        "colab": {}
      },
      "source": [
        ""
      ],
      "execution_count": 0,
      "outputs": []
    }
  ]
}