{
  "nbformat": 4,
  "nbformat_minor": 0,
  "metadata": {
    "colab": {
      "name": "SolutionSeq.ipynb",
      "version": "0.3.2",
      "provenance": [],
      "collapsed_sections": []
    },
    "kernelspec": {
      "name": "python3",
      "display_name": "Python 3"
    },
    "accelerator": "TPU"
  },
  "cells": [
    {
      "cell_type": "code",
      "metadata": {
        "id": "Dr62BfHk1IS2",
        "colab_type": "code",
        "colab": {}
      },
      "source": [
        "import numpy\n",
        "import pandas as pd\n",
        "from keras.models import Sequential\n",
        "from keras.layers import Dense\n",
        "from keras.wrappers.scikit_learn import KerasRegressor\n",
        "from sklearn.model_selection import cross_val_score\n",
        "from sklearn.model_selection import KFold\n",
        "from sklearn.preprocessing import StandardScaler\n",
        "from sklearn.pipeline import Pipeline\n",
        "from sklearn.preprocessing import MinMaxScaler\n",
        "import matplotlib.pyplot as plt"
      ],
      "execution_count": 0,
      "outputs": []
    },
    {
      "cell_type": "code",
      "metadata": {
        "id": "6RM6RrXa1K1q",
        "colab_type": "code",
        "outputId": "ba8db716-95b8-4951-c8b5-cbcac7624901",
        "colab": {
          "base_uri": "https://localhost:8080/",
          "height": 338
        }
      },
      "source": [
        "dataset = pd.read_csv('train.csv')\n",
        "dataset.fillna(dataset.mean(axis=0), inplace=True)\n",
        "dataset.head()"
      ],
      "execution_count": 38,
      "outputs": [
        {
          "output_type": "execute_result",
          "data": {
            "text/html": [
              "<div>\n",
              "<style scoped>\n",
              "    .dataframe tbody tr th:only-of-type {\n",
              "        vertical-align: middle;\n",
              "    }\n",
              "\n",
              "    .dataframe tbody tr th {\n",
              "        vertical-align: top;\n",
              "    }\n",
              "\n",
              "    .dataframe thead th {\n",
              "        text-align: right;\n",
              "    }\n",
              "</style>\n",
              "<table border=\"1\" class=\"dataframe\">\n",
              "  <thead>\n",
              "    <tr style=\"text-align: right;\">\n",
              "      <th></th>\n",
              "      <th>Id</th>\n",
              "      <th>Feature_1</th>\n",
              "      <th>Feature_2</th>\n",
              "      <th>Feature_3</th>\n",
              "      <th>Feature_4</th>\n",
              "      <th>Feature_5</th>\n",
              "      <th>Feature_6</th>\n",
              "      <th>Feature_7</th>\n",
              "      <th>Feature_8</th>\n",
              "      <th>Feature_9</th>\n",
              "      <th>Feature_10</th>\n",
              "      <th>Feature_11</th>\n",
              "      <th>Feature_12</th>\n",
              "      <th>Feature_13</th>\n",
              "      <th>Feature_14</th>\n",
              "      <th>Feature_15</th>\n",
              "      <th>Feature_16</th>\n",
              "      <th>Feature_17</th>\n",
              "      <th>Feature_18</th>\n",
              "      <th>Feature_19</th>\n",
              "      <th>Feature_20</th>\n",
              "      <th>Feature_21</th>\n",
              "      <th>Feature_22</th>\n",
              "      <th>Feature_23</th>\n",
              "      <th>Feature_24</th>\n",
              "      <th>Feature_25</th>\n",
              "      <th>Ret_MinusTwo</th>\n",
              "      <th>Ret_MinusOne</th>\n",
              "      <th>Ret_2</th>\n",
              "      <th>Ret_3</th>\n",
              "      <th>Ret_4</th>\n",
              "      <th>Ret_5</th>\n",
              "      <th>Ret_6</th>\n",
              "      <th>Ret_7</th>\n",
              "      <th>Ret_8</th>\n",
              "      <th>Ret_9</th>\n",
              "      <th>Ret_10</th>\n",
              "      <th>Ret_11</th>\n",
              "      <th>Ret_12</th>\n",
              "      <th>Ret_13</th>\n",
              "      <th>...</th>\n",
              "      <th>Ret_145</th>\n",
              "      <th>Ret_146</th>\n",
              "      <th>Ret_147</th>\n",
              "      <th>Ret_148</th>\n",
              "      <th>Ret_149</th>\n",
              "      <th>Ret_150</th>\n",
              "      <th>Ret_151</th>\n",
              "      <th>Ret_152</th>\n",
              "      <th>Ret_153</th>\n",
              "      <th>Ret_154</th>\n",
              "      <th>Ret_155</th>\n",
              "      <th>Ret_156</th>\n",
              "      <th>Ret_157</th>\n",
              "      <th>Ret_158</th>\n",
              "      <th>Ret_159</th>\n",
              "      <th>Ret_160</th>\n",
              "      <th>Ret_161</th>\n",
              "      <th>Ret_162</th>\n",
              "      <th>Ret_163</th>\n",
              "      <th>Ret_164</th>\n",
              "      <th>Ret_165</th>\n",
              "      <th>Ret_166</th>\n",
              "      <th>Ret_167</th>\n",
              "      <th>Ret_168</th>\n",
              "      <th>Ret_169</th>\n",
              "      <th>Ret_170</th>\n",
              "      <th>Ret_171</th>\n",
              "      <th>Ret_172</th>\n",
              "      <th>Ret_173</th>\n",
              "      <th>Ret_174</th>\n",
              "      <th>Ret_175</th>\n",
              "      <th>Ret_176</th>\n",
              "      <th>Ret_177</th>\n",
              "      <th>Ret_178</th>\n",
              "      <th>Ret_179</th>\n",
              "      <th>Ret_180</th>\n",
              "      <th>Ret_PlusOne</th>\n",
              "      <th>Ret_PlusTwo</th>\n",
              "      <th>Weight_Intraday</th>\n",
              "      <th>Weight_Daily</th>\n",
              "    </tr>\n",
              "  </thead>\n",
              "  <tbody>\n",
              "    <tr>\n",
              "      <th>0</th>\n",
              "      <td>1</td>\n",
              "      <td>3.59025</td>\n",
              "      <td>-0.117558</td>\n",
              "      <td>0.558392</td>\n",
              "      <td>0.405572</td>\n",
              "      <td>8.0</td>\n",
              "      <td>0.430972</td>\n",
              "      <td>75751</td>\n",
              "      <td>0.2254</td>\n",
              "      <td>11.0</td>\n",
              "      <td>4.744703</td>\n",
              "      <td>-0.572244</td>\n",
              "      <td>0.49</td>\n",
              "      <td>5.0</td>\n",
              "      <td>1.842984</td>\n",
              "      <td>27.053679</td>\n",
              "      <td>1.0</td>\n",
              "      <td>-0.549725</td>\n",
              "      <td>0.803059</td>\n",
              "      <td>-0.925463</td>\n",
              "      <td>2.0</td>\n",
              "      <td>0.605593</td>\n",
              "      <td>-0.489492</td>\n",
              "      <td>0.799833</td>\n",
              "      <td>-1.209290</td>\n",
              "      <td>-0.329675</td>\n",
              "      <td>0.055275</td>\n",
              "      <td>-0.010770</td>\n",
              "      <td>0.000003</td>\n",
              "      <td>-0.000734</td>\n",
              "      <td>-0.000738</td>\n",
              "      <td>-0.000007</td>\n",
              "      <td>0.000423</td>\n",
              "      <td>0.000438</td>\n",
              "      <td>-0.000076</td>\n",
              "      <td>0.000645</td>\n",
              "      <td>-0.000006</td>\n",
              "      <td>0.000006</td>\n",
              "      <td>4.886832e-07</td>\n",
              "      <td>-0.000156</td>\n",
              "      <td>...</td>\n",
              "      <td>-0.000842</td>\n",
              "      <td>-0.001390</td>\n",
              "      <td>0.000148</td>\n",
              "      <td>2.846942e-04</td>\n",
              "      <td>0.001254</td>\n",
              "      <td>-0.000130</td>\n",
              "      <td>0.000126</td>\n",
              "      <td>0.000978</td>\n",
              "      <td>0.000151</td>\n",
              "      <td>0.002642</td>\n",
              "      <td>-0.000017</td>\n",
              "      <td>0.000140</td>\n",
              "      <td>0.000015</td>\n",
              "      <td>-0.000011</td>\n",
              "      <td>0.001683</td>\n",
              "      <td>-0.000286</td>\n",
              "      <td>0.000010</td>\n",
              "      <td>0.000152</td>\n",
              "      <td>0.000579</td>\n",
              "      <td>-1.501973e-04</td>\n",
              "      <td>0.000822</td>\n",
              "      <td>0.001392</td>\n",
              "      <td>0.000292</td>\n",
              "      <td>0.000002</td>\n",
              "      <td>0.001133</td>\n",
              "      <td>-0.000134</td>\n",
              "      <td>0.001539</td>\n",
              "      <td>-0.000142</td>\n",
              "      <td>0.000861</td>\n",
              "      <td>0.000544</td>\n",
              "      <td>-0.002688</td>\n",
              "      <td>0.002246</td>\n",
              "      <td>-0.000838</td>\n",
              "      <td>-6.953224e-04</td>\n",
              "      <td>0.000003</td>\n",
              "      <td>-0.001974</td>\n",
              "      <td>-0.019512</td>\n",
              "      <td>0.028846</td>\n",
              "      <td>1.251508e+06</td>\n",
              "      <td>1.564385e+06</td>\n",
              "    </tr>\n",
              "    <tr>\n",
              "      <th>1</th>\n",
              "      <td>2</td>\n",
              "      <td>3.59025</td>\n",
              "      <td>-0.117558</td>\n",
              "      <td>0.558392</td>\n",
              "      <td>0.405572</td>\n",
              "      <td>3.0</td>\n",
              "      <td>0.388896</td>\n",
              "      <td>17369</td>\n",
              "      <td>0.0166</td>\n",
              "      <td>13.0</td>\n",
              "      <td>4.744703</td>\n",
              "      <td>-0.409923</td>\n",
              "      <td>0.71</td>\n",
              "      <td>9.0</td>\n",
              "      <td>1.577586</td>\n",
              "      <td>9.546915</td>\n",
              "      <td>1.0</td>\n",
              "      <td>-0.949891</td>\n",
              "      <td>0.917958</td>\n",
              "      <td>-0.897067</td>\n",
              "      <td>9.0</td>\n",
              "      <td>0.886205</td>\n",
              "      <td>-0.151805</td>\n",
              "      <td>1.239856</td>\n",
              "      <td>0.953424</td>\n",
              "      <td>-0.709462</td>\n",
              "      <td>0.009748</td>\n",
              "      <td>0.002987</td>\n",
              "      <td>-0.000487</td>\n",
              "      <td>0.000475</td>\n",
              "      <td>0.000002</td>\n",
              "      <td>-0.000002</td>\n",
              "      <td>-0.000523</td>\n",
              "      <td>-0.000255</td>\n",
              "      <td>-0.000008</td>\n",
              "      <td>0.000048</td>\n",
              "      <td>-0.000312</td>\n",
              "      <td>-0.000742</td>\n",
              "      <td>-9.027256e-06</td>\n",
              "      <td>-0.000248</td>\n",
              "      <td>...</td>\n",
              "      <td>-0.000104</td>\n",
              "      <td>0.000555</td>\n",
              "      <td>0.000259</td>\n",
              "      <td>2.559339e-05</td>\n",
              "      <td>0.000004</td>\n",
              "      <td>-0.000255</td>\n",
              "      <td>0.000263</td>\n",
              "      <td>0.000250</td>\n",
              "      <td>0.000104</td>\n",
              "      <td>0.000119</td>\n",
              "      <td>-0.000483</td>\n",
              "      <td>0.000128</td>\n",
              "      <td>0.000886</td>\n",
              "      <td>0.000003</td>\n",
              "      <td>0.000148</td>\n",
              "      <td>0.000623</td>\n",
              "      <td>0.000507</td>\n",
              "      <td>-0.000742</td>\n",
              "      <td>-0.000514</td>\n",
              "      <td>8.881545e-07</td>\n",
              "      <td>0.000090</td>\n",
              "      <td>-0.000361</td>\n",
              "      <td>-0.000738</td>\n",
              "      <td>-0.000502</td>\n",
              "      <td>0.000497</td>\n",
              "      <td>0.000256</td>\n",
              "      <td>-0.000256</td>\n",
              "      <td>-0.000005</td>\n",
              "      <td>-0.000497</td>\n",
              "      <td>0.000240</td>\n",
              "      <td>-0.000129</td>\n",
              "      <td>0.000123</td>\n",
              "      <td>0.000248</td>\n",
              "      <td>3.315418e-07</td>\n",
              "      <td>0.000003</td>\n",
              "      <td>0.000027</td>\n",
              "      <td>-0.002939</td>\n",
              "      <td>-0.010253</td>\n",
              "      <td>1.733950e+06</td>\n",
              "      <td>2.167438e+06</td>\n",
              "    </tr>\n",
              "    <tr>\n",
              "      <th>2</th>\n",
              "      <td>3</td>\n",
              "      <td>3.59025</td>\n",
              "      <td>-0.696727</td>\n",
              "      <td>0.739591</td>\n",
              "      <td>-0.167928</td>\n",
              "      <td>9.0</td>\n",
              "      <td>0.471947</td>\n",
              "      <td>8277</td>\n",
              "      <td>0.3650</td>\n",
              "      <td>9.0</td>\n",
              "      <td>5.000000</td>\n",
              "      <td>-0.473024</td>\n",
              "      <td>0.03</td>\n",
              "      <td>6.0</td>\n",
              "      <td>1.871160</td>\n",
              "      <td>9.647559</td>\n",
              "      <td>1.0</td>\n",
              "      <td>-1.132426</td>\n",
              "      <td>1.799813</td>\n",
              "      <td>-1.603488</td>\n",
              "      <td>3.0</td>\n",
              "      <td>0.605593</td>\n",
              "      <td>0.389061</td>\n",
              "      <td>1.728096</td>\n",
              "      <td>-1.798090</td>\n",
              "      <td>-1.019370</td>\n",
              "      <td>0.003077</td>\n",
              "      <td>0.006181</td>\n",
              "      <td>-0.000782</td>\n",
              "      <td>-0.000402</td>\n",
              "      <td>0.000807</td>\n",
              "      <td>0.000400</td>\n",
              "      <td>0.000656</td>\n",
              "      <td>-0.001177</td>\n",
              "      <td>0.001198</td>\n",
              "      <td>0.000610</td>\n",
              "      <td>-0.001031</td>\n",
              "      <td>0.000647</td>\n",
              "      <td>-9.295448e-04</td>\n",
              "      <td>-0.000543</td>\n",
              "      <td>...</td>\n",
              "      <td>-0.000003</td>\n",
              "      <td>-0.000102</td>\n",
              "      <td>-0.000292</td>\n",
              "      <td>5.032658e-04</td>\n",
              "      <td>-0.000126</td>\n",
              "      <td>-0.000135</td>\n",
              "      <td>0.000238</td>\n",
              "      <td>-0.000106</td>\n",
              "      <td>-0.000137</td>\n",
              "      <td>-0.000419</td>\n",
              "      <td>-0.000379</td>\n",
              "      <td>0.000013</td>\n",
              "      <td>0.000001</td>\n",
              "      <td>-0.000009</td>\n",
              "      <td>-0.000283</td>\n",
              "      <td>-0.000526</td>\n",
              "      <td>0.000247</td>\n",
              "      <td>-0.000134</td>\n",
              "      <td>0.000675</td>\n",
              "      <td>1.136847e-04</td>\n",
              "      <td>0.000234</td>\n",
              "      <td>-0.000506</td>\n",
              "      <td>-0.000007</td>\n",
              "      <td>-0.000249</td>\n",
              "      <td>0.000119</td>\n",
              "      <td>0.000277</td>\n",
              "      <td>0.000656</td>\n",
              "      <td>0.000127</td>\n",
              "      <td>0.000255</td>\n",
              "      <td>0.000278</td>\n",
              "      <td>-0.000524</td>\n",
              "      <td>-0.000394</td>\n",
              "      <td>0.000116</td>\n",
              "      <td>5.322557e-04</td>\n",
              "      <td>0.000274</td>\n",
              "      <td>0.000784</td>\n",
              "      <td>-0.024791</td>\n",
              "      <td>0.015711</td>\n",
              "      <td>1.529197e+06</td>\n",
              "      <td>1.911497e+06</td>\n",
              "    </tr>\n",
              "    <tr>\n",
              "      <th>3</th>\n",
              "      <td>4</td>\n",
              "      <td>3.59025</td>\n",
              "      <td>-0.694350</td>\n",
              "      <td>1.568248</td>\n",
              "      <td>0.479073</td>\n",
              "      <td>5.0</td>\n",
              "      <td>0.120653</td>\n",
              "      <td>22508</td>\n",
              "      <td>0.2654</td>\n",
              "      <td>13.0</td>\n",
              "      <td>5.000000</td>\n",
              "      <td>-2.138383</td>\n",
              "      <td>0.00</td>\n",
              "      <td>6.0</td>\n",
              "      <td>1.588524</td>\n",
              "      <td>1.801865</td>\n",
              "      <td>1.0</td>\n",
              "      <td>-1.131213</td>\n",
              "      <td>1.565036</td>\n",
              "      <td>-1.205438</td>\n",
              "      <td>7.0</td>\n",
              "      <td>1.148738</td>\n",
              "      <td>-2.440799</td>\n",
              "      <td>1.551425</td>\n",
              "      <td>-1.788725</td>\n",
              "      <td>-0.329675</td>\n",
              "      <td>0.000984</td>\n",
              "      <td>0.014106</td>\n",
              "      <td>0.000277</td>\n",
              "      <td>-0.000088</td>\n",
              "      <td>-0.000199</td>\n",
              "      <td>-0.000301</td>\n",
              "      <td>0.000711</td>\n",
              "      <td>-0.000431</td>\n",
              "      <td>-0.000144</td>\n",
              "      <td>0.000340</td>\n",
              "      <td>-0.000639</td>\n",
              "      <td>0.000420</td>\n",
              "      <td>1.449000e-04</td>\n",
              "      <td>-0.000130</td>\n",
              "      <td>...</td>\n",
              "      <td>0.000120</td>\n",
              "      <td>-0.000119</td>\n",
              "      <td>0.000285</td>\n",
              "      <td>-1.020028e-07</td>\n",
              "      <td>0.000285</td>\n",
              "      <td>-0.000350</td>\n",
              "      <td>0.000214</td>\n",
              "      <td>-0.000703</td>\n",
              "      <td>0.000153</td>\n",
              "      <td>-0.000286</td>\n",
              "      <td>0.000136</td>\n",
              "      <td>-0.000579</td>\n",
              "      <td>-0.000139</td>\n",
              "      <td>-0.000005</td>\n",
              "      <td>-0.000009</td>\n",
              "      <td>0.000010</td>\n",
              "      <td>0.000290</td>\n",
              "      <td>-0.000068</td>\n",
              "      <td>-0.000352</td>\n",
              "      <td>2.739541e-04</td>\n",
              "      <td>-0.000292</td>\n",
              "      <td>0.000446</td>\n",
              "      <td>0.000288</td>\n",
              "      <td>0.000001</td>\n",
              "      <td>0.000304</td>\n",
              "      <td>-0.000027</td>\n",
              "      <td>0.000371</td>\n",
              "      <td>-0.000055</td>\n",
              "      <td>-0.000161</td>\n",
              "      <td>-0.000155</td>\n",
              "      <td>0.000346</td>\n",
              "      <td>-0.000090</td>\n",
              "      <td>0.000288</td>\n",
              "      <td>-1.281102e-04</td>\n",
              "      <td>0.000074</td>\n",
              "      <td>0.000341</td>\n",
              "      <td>-0.005680</td>\n",
              "      <td>-0.002190</td>\n",
              "      <td>1.711569e+06</td>\n",
              "      <td>2.139462e+06</td>\n",
              "    </tr>\n",
              "    <tr>\n",
              "      <th>4</th>\n",
              "      <td>5</td>\n",
              "      <td>6.00000</td>\n",
              "      <td>-1.736489</td>\n",
              "      <td>2.765531</td>\n",
              "      <td>1.245280</td>\n",
              "      <td>7.0</td>\n",
              "      <td>4.866985</td>\n",
              "      <td>22423</td>\n",
              "      <td>0.2138</td>\n",
              "      <td>13.0</td>\n",
              "      <td>4.000000</td>\n",
              "      <td>-4.795565</td>\n",
              "      <td>0.97</td>\n",
              "      <td>5.0</td>\n",
              "      <td>0.842102</td>\n",
              "      <td>9.198895</td>\n",
              "      <td>1.0</td>\n",
              "      <td>6.317498</td>\n",
              "      <td>-3.208872</td>\n",
              "      <td>-1.102189</td>\n",
              "      <td>7.0</td>\n",
              "      <td>3.381040</td>\n",
              "      <td>1.732708</td>\n",
              "      <td>1.965189</td>\n",
              "      <td>-5.993092</td>\n",
              "      <td>3.219820</td>\n",
              "      <td>-0.018224</td>\n",
              "      <td>0.011065</td>\n",
              "      <td>-0.001232</td>\n",
              "      <td>0.000002</td>\n",
              "      <td>-0.001205</td>\n",
              "      <td>-0.000021</td>\n",
              "      <td>0.000005</td>\n",
              "      <td>0.000623</td>\n",
              "      <td>-0.001843</td>\n",
              "      <td>0.000005</td>\n",
              "      <td>0.001226</td>\n",
              "      <td>0.001213</td>\n",
              "      <td>-2.428211e-03</td>\n",
              "      <td>0.000974</td>\n",
              "      <td>...</td>\n",
              "      <td>-0.000979</td>\n",
              "      <td>0.000978</td>\n",
              "      <td>-0.000014</td>\n",
              "      <td>-1.218838e-03</td>\n",
              "      <td>0.001208</td>\n",
              "      <td>-0.000013</td>\n",
              "      <td>-0.000620</td>\n",
              "      <td>0.000606</td>\n",
              "      <td>-0.001238</td>\n",
              "      <td>0.000002</td>\n",
              "      <td>0.000003</td>\n",
              "      <td>-0.001226</td>\n",
              "      <td>0.001005</td>\n",
              "      <td>-0.000008</td>\n",
              "      <td>0.000231</td>\n",
              "      <td>-0.000006</td>\n",
              "      <td>-0.001212</td>\n",
              "      <td>0.000005</td>\n",
              "      <td>0.001220</td>\n",
              "      <td>-1.221212e-03</td>\n",
              "      <td>-0.000016</td>\n",
              "      <td>-0.000007</td>\n",
              "      <td>0.001222</td>\n",
              "      <td>0.000018</td>\n",
              "      <td>-0.001219</td>\n",
              "      <td>0.000006</td>\n",
              "      <td>0.001214</td>\n",
              "      <td>0.001221</td>\n",
              "      <td>-0.000005</td>\n",
              "      <td>-0.000007</td>\n",
              "      <td>-0.001235</td>\n",
              "      <td>0.000027</td>\n",
              "      <td>0.002449</td>\n",
              "      <td>8.619882e-06</td>\n",
              "      <td>0.001209</td>\n",
              "      <td>-0.000004</td>\n",
              "      <td>0.036104</td>\n",
              "      <td>-0.026552</td>\n",
              "      <td>1.267270e+06</td>\n",
              "      <td>1.584088e+06</td>\n",
              "    </tr>\n",
              "  </tbody>\n",
              "</table>\n",
              "<p>5 rows × 211 columns</p>\n",
              "</div>"
            ],
            "text/plain": [
              "   Id  Feature_1  Feature_2  ...  Ret_PlusTwo  Weight_Intraday  Weight_Daily\n",
              "0   1    3.59025  -0.117558  ...     0.028846     1.251508e+06  1.564385e+06\n",
              "1   2    3.59025  -0.117558  ...    -0.010253     1.733950e+06  2.167438e+06\n",
              "2   3    3.59025  -0.696727  ...     0.015711     1.529197e+06  1.911497e+06\n",
              "3   4    3.59025  -0.694350  ...    -0.002190     1.711569e+06  2.139462e+06\n",
              "4   5    6.00000  -1.736489  ...    -0.026552     1.267270e+06  1.584088e+06\n",
              "\n",
              "[5 rows x 211 columns]"
            ]
          },
          "metadata": {
            "tags": []
          },
          "execution_count": 38
        }
      ]
    },
    {
      "cell_type": "code",
      "metadata": {
        "id": "qcEwrmJF1YlE",
        "colab_type": "code",
        "colab": {}
      },
      "source": [
        "#Splitting the dataset into X and Y, ie input and output values\n",
        "X_original = dataset.iloc[:,0:27]\n",
        "Y_original = dataset.iloc[:,145]"
      ],
      "execution_count": 0,
      "outputs": []
    },
    {
      "cell_type": "code",
      "metadata": {
        "id": "XSN2-o081ank",
        "colab_type": "code",
        "outputId": "035a660a-dc58-4832-f0c0-ec1dbe3889c1",
        "colab": {
          "base_uri": "https://localhost:8080/",
          "height": 224
        }
      },
      "source": [
        "X_original.head()"
      ],
      "execution_count": 40,
      "outputs": [
        {
          "output_type": "execute_result",
          "data": {
            "text/html": [
              "<div>\n",
              "<style scoped>\n",
              "    .dataframe tbody tr th:only-of-type {\n",
              "        vertical-align: middle;\n",
              "    }\n",
              "\n",
              "    .dataframe tbody tr th {\n",
              "        vertical-align: top;\n",
              "    }\n",
              "\n",
              "    .dataframe thead th {\n",
              "        text-align: right;\n",
              "    }\n",
              "</style>\n",
              "<table border=\"1\" class=\"dataframe\">\n",
              "  <thead>\n",
              "    <tr style=\"text-align: right;\">\n",
              "      <th></th>\n",
              "      <th>Id</th>\n",
              "      <th>Feature_1</th>\n",
              "      <th>Feature_2</th>\n",
              "      <th>Feature_3</th>\n",
              "      <th>Feature_4</th>\n",
              "      <th>Feature_5</th>\n",
              "      <th>Feature_6</th>\n",
              "      <th>Feature_7</th>\n",
              "      <th>Feature_8</th>\n",
              "      <th>Feature_9</th>\n",
              "      <th>Feature_10</th>\n",
              "      <th>Feature_11</th>\n",
              "      <th>Feature_12</th>\n",
              "      <th>Feature_13</th>\n",
              "      <th>Feature_14</th>\n",
              "      <th>Feature_15</th>\n",
              "      <th>Feature_16</th>\n",
              "      <th>Feature_17</th>\n",
              "      <th>Feature_18</th>\n",
              "      <th>Feature_19</th>\n",
              "      <th>Feature_20</th>\n",
              "      <th>Feature_21</th>\n",
              "      <th>Feature_22</th>\n",
              "      <th>Feature_23</th>\n",
              "      <th>Feature_24</th>\n",
              "      <th>Feature_25</th>\n",
              "      <th>Ret_MinusTwo</th>\n",
              "    </tr>\n",
              "  </thead>\n",
              "  <tbody>\n",
              "    <tr>\n",
              "      <th>0</th>\n",
              "      <td>1</td>\n",
              "      <td>3.59025</td>\n",
              "      <td>-0.117558</td>\n",
              "      <td>0.558392</td>\n",
              "      <td>0.405572</td>\n",
              "      <td>8.0</td>\n",
              "      <td>0.430972</td>\n",
              "      <td>75751</td>\n",
              "      <td>0.2254</td>\n",
              "      <td>11.0</td>\n",
              "      <td>4.744703</td>\n",
              "      <td>-0.572244</td>\n",
              "      <td>0.49</td>\n",
              "      <td>5.0</td>\n",
              "      <td>1.842984</td>\n",
              "      <td>27.053679</td>\n",
              "      <td>1.0</td>\n",
              "      <td>-0.549725</td>\n",
              "      <td>0.803059</td>\n",
              "      <td>-0.925463</td>\n",
              "      <td>2.0</td>\n",
              "      <td>0.605593</td>\n",
              "      <td>-0.489492</td>\n",
              "      <td>0.799833</td>\n",
              "      <td>-1.209290</td>\n",
              "      <td>-0.329675</td>\n",
              "      <td>0.055275</td>\n",
              "    </tr>\n",
              "    <tr>\n",
              "      <th>1</th>\n",
              "      <td>2</td>\n",
              "      <td>3.59025</td>\n",
              "      <td>-0.117558</td>\n",
              "      <td>0.558392</td>\n",
              "      <td>0.405572</td>\n",
              "      <td>3.0</td>\n",
              "      <td>0.388896</td>\n",
              "      <td>17369</td>\n",
              "      <td>0.0166</td>\n",
              "      <td>13.0</td>\n",
              "      <td>4.744703</td>\n",
              "      <td>-0.409923</td>\n",
              "      <td>0.71</td>\n",
              "      <td>9.0</td>\n",
              "      <td>1.577586</td>\n",
              "      <td>9.546915</td>\n",
              "      <td>1.0</td>\n",
              "      <td>-0.949891</td>\n",
              "      <td>0.917958</td>\n",
              "      <td>-0.897067</td>\n",
              "      <td>9.0</td>\n",
              "      <td>0.886205</td>\n",
              "      <td>-0.151805</td>\n",
              "      <td>1.239856</td>\n",
              "      <td>0.953424</td>\n",
              "      <td>-0.709462</td>\n",
              "      <td>0.009748</td>\n",
              "    </tr>\n",
              "    <tr>\n",
              "      <th>2</th>\n",
              "      <td>3</td>\n",
              "      <td>3.59025</td>\n",
              "      <td>-0.696727</td>\n",
              "      <td>0.739591</td>\n",
              "      <td>-0.167928</td>\n",
              "      <td>9.0</td>\n",
              "      <td>0.471947</td>\n",
              "      <td>8277</td>\n",
              "      <td>0.3650</td>\n",
              "      <td>9.0</td>\n",
              "      <td>5.000000</td>\n",
              "      <td>-0.473024</td>\n",
              "      <td>0.03</td>\n",
              "      <td>6.0</td>\n",
              "      <td>1.871160</td>\n",
              "      <td>9.647559</td>\n",
              "      <td>1.0</td>\n",
              "      <td>-1.132426</td>\n",
              "      <td>1.799813</td>\n",
              "      <td>-1.603488</td>\n",
              "      <td>3.0</td>\n",
              "      <td>0.605593</td>\n",
              "      <td>0.389061</td>\n",
              "      <td>1.728096</td>\n",
              "      <td>-1.798090</td>\n",
              "      <td>-1.019370</td>\n",
              "      <td>0.003077</td>\n",
              "    </tr>\n",
              "    <tr>\n",
              "      <th>3</th>\n",
              "      <td>4</td>\n",
              "      <td>3.59025</td>\n",
              "      <td>-0.694350</td>\n",
              "      <td>1.568248</td>\n",
              "      <td>0.479073</td>\n",
              "      <td>5.0</td>\n",
              "      <td>0.120653</td>\n",
              "      <td>22508</td>\n",
              "      <td>0.2654</td>\n",
              "      <td>13.0</td>\n",
              "      <td>5.000000</td>\n",
              "      <td>-2.138383</td>\n",
              "      <td>0.00</td>\n",
              "      <td>6.0</td>\n",
              "      <td>1.588524</td>\n",
              "      <td>1.801865</td>\n",
              "      <td>1.0</td>\n",
              "      <td>-1.131213</td>\n",
              "      <td>1.565036</td>\n",
              "      <td>-1.205438</td>\n",
              "      <td>7.0</td>\n",
              "      <td>1.148738</td>\n",
              "      <td>-2.440799</td>\n",
              "      <td>1.551425</td>\n",
              "      <td>-1.788725</td>\n",
              "      <td>-0.329675</td>\n",
              "      <td>0.000984</td>\n",
              "    </tr>\n",
              "    <tr>\n",
              "      <th>4</th>\n",
              "      <td>5</td>\n",
              "      <td>6.00000</td>\n",
              "      <td>-1.736489</td>\n",
              "      <td>2.765531</td>\n",
              "      <td>1.245280</td>\n",
              "      <td>7.0</td>\n",
              "      <td>4.866985</td>\n",
              "      <td>22423</td>\n",
              "      <td>0.2138</td>\n",
              "      <td>13.0</td>\n",
              "      <td>4.000000</td>\n",
              "      <td>-4.795565</td>\n",
              "      <td>0.97</td>\n",
              "      <td>5.0</td>\n",
              "      <td>0.842102</td>\n",
              "      <td>9.198895</td>\n",
              "      <td>1.0</td>\n",
              "      <td>6.317498</td>\n",
              "      <td>-3.208872</td>\n",
              "      <td>-1.102189</td>\n",
              "      <td>7.0</td>\n",
              "      <td>3.381040</td>\n",
              "      <td>1.732708</td>\n",
              "      <td>1.965189</td>\n",
              "      <td>-5.993092</td>\n",
              "      <td>3.219820</td>\n",
              "      <td>-0.018224</td>\n",
              "    </tr>\n",
              "  </tbody>\n",
              "</table>\n",
              "</div>"
            ],
            "text/plain": [
              "   Id  Feature_1  Feature_2  ...  Feature_24  Feature_25  Ret_MinusTwo\n",
              "0   1    3.59025  -0.117558  ...   -1.209290   -0.329675      0.055275\n",
              "1   2    3.59025  -0.117558  ...    0.953424   -0.709462      0.009748\n",
              "2   3    3.59025  -0.696727  ...   -1.798090   -1.019370      0.003077\n",
              "3   4    3.59025  -0.694350  ...   -1.788725   -0.329675      0.000984\n",
              "4   5    6.00000  -1.736489  ...   -5.993092    3.219820     -0.018224\n",
              "\n",
              "[5 rows x 27 columns]"
            ]
          },
          "metadata": {
            "tags": []
          },
          "execution_count": 40
        }
      ]
    },
    {
      "cell_type": "code",
      "metadata": {
        "id": "jHzVQbdk1j2p",
        "colab_type": "code",
        "outputId": "7a08fad6-c75e-415d-ecec-172fb71914d6",
        "colab": {
          "base_uri": "https://localhost:8080/",
          "height": 34
        }
      },
      "source": [
        "X_original.shape"
      ],
      "execution_count": 41,
      "outputs": [
        {
          "output_type": "execute_result",
          "data": {
            "text/plain": [
              "(40000, 27)"
            ]
          },
          "metadata": {
            "tags": []
          },
          "execution_count": 41
        }
      ]
    },
    {
      "cell_type": "code",
      "metadata": {
        "id": "RXczoPMd1lLX",
        "colab_type": "code",
        "outputId": "4e71aa6e-84f6-4dcc-cad6-bac43bb473e9",
        "colab": {
          "base_uri": "https://localhost:8080/",
          "height": 119
        }
      },
      "source": [
        "Y_original.head()"
      ],
      "execution_count": 42,
      "outputs": [
        {
          "output_type": "execute_result",
          "data": {
            "text/plain": [
              "0   -0.000009\n",
              "1   -0.000007\n",
              "2   -0.000270\n",
              "3    0.000153\n",
              "4    0.001208\n",
              "Name: Ret_119, dtype: float64"
            ]
          },
          "metadata": {
            "tags": []
          },
          "execution_count": 42
        }
      ]
    },
    {
      "cell_type": "code",
      "metadata": {
        "id": "fYkPkE6f1mj4",
        "colab_type": "code",
        "outputId": "1954bd5a-31b9-4bf3-9010-3d1629f99dfb",
        "colab": {
          "base_uri": "https://localhost:8080/",
          "height": 34
        }
      },
      "source": [
        "Y_original.shape"
      ],
      "execution_count": 43,
      "outputs": [
        {
          "output_type": "execute_result",
          "data": {
            "text/plain": [
              "(40000,)"
            ]
          },
          "metadata": {
            "tags": []
          },
          "execution_count": 43
        }
      ]
    },
    {
      "cell_type": "code",
      "metadata": {
        "id": "VH-J0sB01od7",
        "colab_type": "code",
        "colab": {}
      },
      "source": [
        "#Normalizing X_original to X_scaled\n",
        "normalize_X = MinMaxScaler()\n",
        "normalize_X.fit(X_original)\n",
        "X_scaled=normalize_X.transform(X_original)"
      ],
      "execution_count": 0,
      "outputs": []
    },
    {
      "cell_type": "code",
      "metadata": {
        "id": "VBkMQw731vMc",
        "colab_type": "code",
        "outputId": "58c68de4-6738-4ca0-d2ea-efac3f1790b1",
        "colab": {
          "base_uri": "https://localhost:8080/",
          "height": 238
        }
      },
      "source": [
        "#Model 1: Sequential\n",
        "model = Sequential()\n",
        "model.add(Dense(12, input_dim=27, kernel_initializer='normal'))\n",
        "model.add(Dense(8, activation='relu'))\n",
        "model.add(Dense(1, activation='linear'))\n",
        "model.summary()"
      ],
      "execution_count": 45,
      "outputs": [
        {
          "output_type": "stream",
          "text": [
            "_________________________________________________________________\n",
            "Layer (type)                 Output Shape              Param #   \n",
            "=================================================================\n",
            "dense_6 (Dense)              (None, 12)                336       \n",
            "_________________________________________________________________\n",
            "dense_7 (Dense)              (None, 8)                 104       \n",
            "_________________________________________________________________\n",
            "dense_8 (Dense)              (None, 1)                 9         \n",
            "=================================================================\n",
            "Total params: 449\n",
            "Trainable params: 449\n",
            "Non-trainable params: 0\n",
            "_________________________________________________________________\n"
          ],
          "name": "stdout"
        }
      ]
    },
    {
      "cell_type": "code",
      "metadata": {
        "id": "HqP0pJVA1yNk",
        "colab_type": "code",
        "colab": {}
      },
      "source": [
        "model.compile(loss='mse', optimizer='adam', metrics=['mse','mae'])"
      ],
      "execution_count": 0,
      "outputs": []
    },
    {
      "cell_type": "code",
      "metadata": {
        "id": "vzL2zgdk11HU",
        "colab_type": "code",
        "outputId": "a53f33b2-52e0-4c74-e440-a1415ead6c3c",
        "colab": {
          "base_uri": "https://localhost:8080/",
          "height": 1737
        }
      },
      "source": [
        "result = model.fit(X_scaled, Y_original,epochs=50, batch_size=10)"
      ],
      "execution_count": 47,
      "outputs": [
        {
          "output_type": "stream",
          "text": [
            "Epoch 1/50\n",
            "40000/40000 [==============================] - 6s 149us/step - loss: 5.3062e-05 - mean_squared_error: 5.3062e-05 - mean_absolute_error: 0.0029\n",
            "Epoch 2/50\n",
            "40000/40000 [==============================] - 5s 114us/step - loss: 5.6234e-06 - mean_squared_error: 5.6234e-06 - mean_absolute_error: 0.0018\n",
            "Epoch 3/50\n",
            "40000/40000 [==============================] - 5s 114us/step - loss: 4.1011e-06 - mean_squared_error: 4.1011e-06 - mean_absolute_error: 0.0015\n",
            "Epoch 4/50\n",
            "40000/40000 [==============================] - 5s 113us/step - loss: 3.3195e-06 - mean_squared_error: 3.3195e-06 - mean_absolute_error: 0.0013\n",
            "Epoch 5/50\n",
            "40000/40000 [==============================] - 5s 114us/step - loss: 2.6041e-06 - mean_squared_error: 2.6041e-06 - mean_absolute_error: 0.0011\n",
            "Epoch 6/50\n",
            "40000/40000 [==============================] - 5s 114us/step - loss: 2.2340e-06 - mean_squared_error: 2.2340e-06 - mean_absolute_error: 0.0010\n",
            "Epoch 7/50\n",
            "40000/40000 [==============================] - 5s 113us/step - loss: 1.5319e-06 - mean_squared_error: 1.5319e-06 - mean_absolute_error: 7.3626e-04\n",
            "Epoch 8/50\n",
            "40000/40000 [==============================] - 5s 113us/step - loss: 1.3782e-06 - mean_squared_error: 1.3782e-06 - mean_absolute_error: 6.9127e-04\n",
            "Epoch 9/50\n",
            "40000/40000 [==============================] - 5s 114us/step - loss: 1.3880e-06 - mean_squared_error: 1.3880e-06 - mean_absolute_error: 6.9284e-04\n",
            "Epoch 10/50\n",
            "40000/40000 [==============================] - 5s 113us/step - loss: 1.3806e-06 - mean_squared_error: 1.3806e-06 - mean_absolute_error: 6.9304e-04\n",
            "Epoch 11/50\n",
            "40000/40000 [==============================] - 4s 112us/step - loss: 1.3775e-06 - mean_squared_error: 1.3775e-06 - mean_absolute_error: 6.9049e-04\n",
            "Epoch 12/50\n",
            "40000/40000 [==============================] - 4s 112us/step - loss: 1.3824e-06 - mean_squared_error: 1.3824e-06 - mean_absolute_error: 6.9220e-04\n",
            "Epoch 13/50\n",
            "40000/40000 [==============================] - 5s 113us/step - loss: 1.3837e-06 - mean_squared_error: 1.3837e-06 - mean_absolute_error: 6.9272e-04\n",
            "Epoch 14/50\n",
            "40000/40000 [==============================] - 5s 114us/step - loss: 1.3812e-06 - mean_squared_error: 1.3812e-06 - mean_absolute_error: 6.9240e-04\n",
            "Epoch 15/50\n",
            "40000/40000 [==============================] - 5s 114us/step - loss: 1.3800e-06 - mean_squared_error: 1.3800e-06 - mean_absolute_error: 6.9072e-04\n",
            "Epoch 16/50\n",
            "40000/40000 [==============================] - 5s 113us/step - loss: 1.3743e-06 - mean_squared_error: 1.3743e-06 - mean_absolute_error: 6.9086e-04\n",
            "Epoch 17/50\n",
            "40000/40000 [==============================] - 4s 112us/step - loss: 1.3835e-06 - mean_squared_error: 1.3835e-06 - mean_absolute_error: 6.9492e-04\n",
            "Epoch 18/50\n",
            "40000/40000 [==============================] - 4s 112us/step - loss: 1.3793e-06 - mean_squared_error: 1.3793e-06 - mean_absolute_error: 6.9303e-04\n",
            "Epoch 19/50\n",
            "40000/40000 [==============================] - 4s 112us/step - loss: 1.3799e-06 - mean_squared_error: 1.3799e-06 - mean_absolute_error: 6.9413e-04\n",
            "Epoch 20/50\n",
            "40000/40000 [==============================] - 6s 138us/step - loss: 1.3758e-06 - mean_squared_error: 1.3758e-06 - mean_absolute_error: 6.8938e-04\n",
            "Epoch 21/50\n",
            "40000/40000 [==============================] - 5s 125us/step - loss: 1.3720e-06 - mean_squared_error: 1.3720e-06 - mean_absolute_error: 6.8733e-04\n",
            "Epoch 22/50\n",
            "40000/40000 [==============================] - 6s 150us/step - loss: 1.3629e-06 - mean_squared_error: 1.3629e-06 - mean_absolute_error: 6.8416e-04\n",
            "Epoch 23/50\n",
            "40000/40000 [==============================] - 5s 137us/step - loss: 1.3864e-06 - mean_squared_error: 1.3864e-06 - mean_absolute_error: 6.9570e-04\n",
            "Epoch 24/50\n",
            "40000/40000 [==============================] - 4s 112us/step - loss: 1.3859e-06 - mean_squared_error: 1.3859e-06 - mean_absolute_error: 6.9897e-04\n",
            "Epoch 25/50\n",
            "40000/40000 [==============================] - 4s 112us/step - loss: 1.3724e-06 - mean_squared_error: 1.3724e-06 - mean_absolute_error: 6.8759e-04\n",
            "Epoch 26/50\n",
            "40000/40000 [==============================] - 5s 113us/step - loss: 1.3853e-06 - mean_squared_error: 1.3853e-06 - mean_absolute_error: 6.9571e-04\n",
            "Epoch 27/50\n",
            "40000/40000 [==============================] - 4s 112us/step - loss: 1.3751e-06 - mean_squared_error: 1.3751e-06 - mean_absolute_error: 6.8921e-04\n",
            "Epoch 28/50\n",
            "40000/40000 [==============================] - 5s 114us/step - loss: 1.3746e-06 - mean_squared_error: 1.3746e-06 - mean_absolute_error: 6.9242e-04\n",
            "Epoch 29/50\n",
            "40000/40000 [==============================] - 5s 116us/step - loss: 1.3724e-06 - mean_squared_error: 1.3724e-06 - mean_absolute_error: 6.8667e-04\n",
            "Epoch 30/50\n",
            "40000/40000 [==============================] - 5s 114us/step - loss: 1.3880e-06 - mean_squared_error: 1.3880e-06 - mean_absolute_error: 6.9969e-04\n",
            "Epoch 31/50\n",
            "40000/40000 [==============================] - 4s 112us/step - loss: 1.3651e-06 - mean_squared_error: 1.3651e-06 - mean_absolute_error: 6.8540e-04\n",
            "Epoch 32/50\n",
            "40000/40000 [==============================] - 5s 115us/step - loss: 1.3948e-06 - mean_squared_error: 1.3948e-06 - mean_absolute_error: 6.9964e-04\n",
            "Epoch 33/50\n",
            "40000/40000 [==============================] - 5s 113us/step - loss: 1.3730e-06 - mean_squared_error: 1.3730e-06 - mean_absolute_error: 6.8950e-04\n",
            "Epoch 34/50\n",
            "40000/40000 [==============================] - 5s 113us/step - loss: 1.3815e-06 - mean_squared_error: 1.3815e-06 - mean_absolute_error: 6.9370e-04\n",
            "Epoch 35/50\n",
            "40000/40000 [==============================] - 4s 112us/step - loss: 1.3798e-06 - mean_squared_error: 1.3798e-06 - mean_absolute_error: 6.9322e-04\n",
            "Epoch 36/50\n",
            "40000/40000 [==============================] - 4s 112us/step - loss: 1.3802e-06 - mean_squared_error: 1.3802e-06 - mean_absolute_error: 6.9133e-04\n",
            "Epoch 37/50\n",
            "40000/40000 [==============================] - 5s 113us/step - loss: 1.3673e-06 - mean_squared_error: 1.3673e-06 - mean_absolute_error: 6.8832e-04\n",
            "Epoch 38/50\n",
            "40000/40000 [==============================] - 5s 128us/step - loss: 1.3804e-06 - mean_squared_error: 1.3804e-06 - mean_absolute_error: 6.9281e-04\n",
            "Epoch 39/50\n",
            "40000/40000 [==============================] - 6s 147us/step - loss: 1.3850e-06 - mean_squared_error: 1.3850e-06 - mean_absolute_error: 6.9691e-04\n",
            "Epoch 40/50\n",
            "40000/40000 [==============================] - 5s 127us/step - loss: 1.3867e-06 - mean_squared_error: 1.3867e-06 - mean_absolute_error: 6.9653e-04\n",
            "Epoch 41/50\n",
            "40000/40000 [==============================] - 6s 152us/step - loss: 1.3852e-06 - mean_squared_error: 1.3852e-06 - mean_absolute_error: 6.9625e-04\n",
            "Epoch 42/50\n",
            "40000/40000 [==============================] - 5s 128us/step - loss: 1.3849e-06 - mean_squared_error: 1.3849e-06 - mean_absolute_error: 6.9952e-04\n",
            "Epoch 43/50\n",
            "40000/40000 [==============================] - 5s 114us/step - loss: 1.3833e-06 - mean_squared_error: 1.3833e-06 - mean_absolute_error: 6.9675e-04\n",
            "Epoch 44/50\n",
            "40000/40000 [==============================] - 5s 114us/step - loss: 1.3720e-06 - mean_squared_error: 1.3720e-06 - mean_absolute_error: 6.8625e-04\n",
            "Epoch 45/50\n",
            "40000/40000 [==============================] - 4s 112us/step - loss: 1.3756e-06 - mean_squared_error: 1.3756e-06 - mean_absolute_error: 6.8772e-04\n",
            "Epoch 46/50\n",
            "40000/40000 [==============================] - 5s 114us/step - loss: 1.3822e-06 - mean_squared_error: 1.3822e-06 - mean_absolute_error: 6.9150e-04\n",
            "Epoch 47/50\n",
            "40000/40000 [==============================] - 5s 130us/step - loss: 1.3849e-06 - mean_squared_error: 1.3849e-06 - mean_absolute_error: 6.9419e-04\n",
            "Epoch 48/50\n",
            "40000/40000 [==============================] - 5s 114us/step - loss: 1.3824e-06 - mean_squared_error: 1.3824e-06 - mean_absolute_error: 6.9271e-04\n",
            "Epoch 49/50\n",
            "40000/40000 [==============================] - 5s 115us/step - loss: 1.3738e-06 - mean_squared_error: 1.3738e-06 - mean_absolute_error: 6.8881e-04\n",
            "Epoch 50/50\n",
            "40000/40000 [==============================] - 5s 113us/step - loss: 1.3693e-06 - mean_squared_error: 1.3693e-06 - mean_absolute_error: 6.8618e-04\n"
          ],
          "name": "stdout"
        }
      ]
    },
    {
      "cell_type": "code",
      "metadata": {
        "id": "-tHKJACl16YG",
        "colab_type": "code",
        "outputId": "f9b5d88c-d2af-45ed-ab97-8561d1ce8afd",
        "colab": {
          "base_uri": "https://localhost:8080/",
          "height": 295
        }
      },
      "source": [
        "plt.plot(result.history['loss'])\n",
        "plt.title('model loss')\n",
        "plt.ylabel('loss')\n",
        "plt.xlabel('epoch')\n",
        "plt.legend(['train'], loc='upper left')\n",
        "plt.show()"
      ],
      "execution_count": 48,
      "outputs": [
        {
          "output_type": "display_data",
          "data": {
            "image/png": "[encoded data removed]",
            "text/plain": [
              "<Figure size 432x288 with 1 Axes>"
            ]
          },
          "metadata": {
            "tags": []
          }
        }
      ]
    },
    {
      "cell_type": "code",
      "metadata": {
        "id": "TszEgxy-19uC",
        "colab_type": "code",
        "colab": {}
      },
      "source": [
        "testdata = pd.read_csv('test_2.csv')\n",
        "testdata.fillna(testdata.mean(axis=0), inplace=True)"
      ],
      "execution_count": 0,
      "outputs": []
    },
    {
      "cell_type": "code",
      "metadata": {
        "id": "SAzPhjSg2Bme",
        "colab_type": "code",
        "colab": {}
      },
      "source": [
        "#Splitting the test data and normalizing\n",
        "X_test = testdata.iloc[:,0:27] \n",
        "Y_test = testdata.iloc[:,145]\n",
        "\n",
        "normalize_X.fit(X_test)\n",
        "X_scaled_test =normalize_X.transform(X_test)"
      ],
      "execution_count": 0,
      "outputs": []
    },
    {
      "cell_type": "code",
      "metadata": {
        "id": "rPRETHRkbQj-",
        "colab_type": "code",
        "colab": {}
      },
      "source": [
        "Ynew = model.predict(X_scaled_test)"
      ],
      "execution_count": 0,
      "outputs": []
    },
    {
      "cell_type": "code",
      "metadata": {
        "id": "F8Kz0CITLQKb",
        "colab_type": "code",
        "outputId": "336ffdb5-f5d9-4e95-de88-1d8cb2e2aa11",
        "colab": {
          "base_uri": "https://localhost:8080/",
          "height": 238
        }
      },
      "source": [
        "X_scaled_test"
      ],
      "execution_count": 52,
      "outputs": [
        {
          "output_type": "execute_result",
          "data": {
            "text/plain": [
              "array([[0.00000000e+00, 0.00000000e+00, 6.37679216e-01, ...,\n",
              "        7.83682410e-01, 2.48052986e-01, 4.64848302e-01],\n",
              "       [1.09163155e-05, 2.71520310e-01, 4.41978472e-01, ...,\n",
              "        7.13381825e-01, 1.99226110e-01, 4.89662857e-01],\n",
              "       [2.18326311e-05, 2.71520310e-01, 3.78082324e-01, ...,\n",
              "        6.88014797e-01, 2.66320968e-01, 4.41931083e-01],\n",
              "       ...,\n",
              "       [9.99978167e-01, 2.71520310e-01, 3.00268258e-01, ...,\n",
              "        7.31643479e-01, 1.64514787e-01, 4.77079977e-01],\n",
              "       [9.99989084e-01, 2.71520310e-01, 3.60481076e-01, ...,\n",
              "        6.29108513e-01, 1.67777412e-01, 4.85297704e-01],\n",
              "       [1.00000000e+00, 2.71520310e-01, 4.41978472e-01, ...,\n",
              "        8.23746512e-01, 2.59262701e-01, 4.78798528e-01]])"
            ]
          },
          "metadata": {
            "tags": []
          },
          "execution_count": 52
        }
      ]
    },
    {
      "cell_type": "code",
      "metadata": {
        "id": "sFhxmu_JLnEF",
        "colab_type": "code",
        "outputId": "e153fba8-9735-492a-fc42-b76b287093af",
        "colab": {
          "base_uri": "https://localhost:8080/",
          "height": 34
        }
      },
      "source": [
        "X_scaled_test.shape"
      ],
      "execution_count": 53,
      "outputs": [
        {
          "output_type": "execute_result",
          "data": {
            "text/plain": [
              "(91607, 27)"
            ]
          },
          "metadata": {
            "tags": []
          },
          "execution_count": 53
        }
      ]
    },
    {
      "cell_type": "code",
      "metadata": {
        "id": "WrKIvd0qLQP7",
        "colab_type": "code",
        "outputId": "7cc1bbea-0741-49b3-a1b3-679a414aa47a",
        "colab": {
          "base_uri": "https://localhost:8080/",
          "height": 136
        }
      },
      "source": [
        "Ynew"
      ],
      "execution_count": 54,
      "outputs": [
        {
          "output_type": "execute_result",
          "data": {
            "text/plain": [
              "array([[-0.00058165],\n",
              "       [-0.00058165],\n",
              "       [-0.00058165],\n",
              "       ...,\n",
              "       [-0.00058165],\n",
              "       [-0.00058165],\n",
              "       [-0.00058165]], dtype=float32)"
            ]
          },
          "metadata": {
            "tags": []
          },
          "execution_count": 54
        }
      ]
    },
    {
      "cell_type": "code",
      "metadata": {
        "id": "38YNdRtsLtDL",
        "colab_type": "code",
        "outputId": "c92a0039-321e-4bee-89ff-778d6aefe040",
        "colab": {
          "base_uri": "https://localhost:8080/",
          "height": 34
        }
      },
      "source": [
        "Ynew.shape"
      ],
      "execution_count": 55,
      "outputs": [
        {
          "output_type": "execute_result",
          "data": {
            "text/plain": [
              "(91607, 1)"
            ]
          },
          "metadata": {
            "tags": []
          },
          "execution_count": 55
        }
      ]
    },
    {
      "cell_type": "code",
      "metadata": {
        "id": "Z-yIuGx12DZq",
        "colab_type": "code",
        "outputId": "5ad67646-bdae-4ed3-d50b-06887386586b",
        "colab": {
          "base_uri": "https://localhost:8080/",
          "height": 414
        }
      },
      "source": [
        "plt.plot(Ynew)\n",
        "plt.plot(Y_test)\n",
        "plt.title('model loss')\n",
        "plt.ylabel('Value')\n",
        "plt.xlabel('Data Points')\n",
        "plt.legend(['Predicted','Real'], loc='upper left')\n",
        "plt.show()\n",
        "Ynew\n"
      ],
      "execution_count": 56,
      "outputs": [
        {
          "output_type": "display_data",
          "data": {
            "image/png": "[encoded data removed]",
            "text/plain": [
              "<Figure size 432x288 with 1 Axes>"
            ]
          },
          "metadata": {
            "tags": []
          }
        },
        {
          "output_type": "execute_result",
          "data": {
            "text/plain": [
              "array([[-0.00058165],\n",
              "       [-0.00058165],\n",
              "       [-0.00058165],\n",
              "       ...,\n",
              "       [-0.00058165],\n",
              "       [-0.00058165],\n",
              "       [-0.00058165]], dtype=float32)"
            ]
          },
          "metadata": {
            "tags": []
          },
          "execution_count": 56
        }
      ]
    }
  ]
}