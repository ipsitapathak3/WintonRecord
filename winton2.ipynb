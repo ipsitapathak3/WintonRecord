{
  "nbformat": 4,
  "nbformat_minor": 0,
  "metadata": {
    "colab": {
      "name": "winton2.ipynb",
      "version": "0.3.2",
      "provenance": [],
      "collapsed_sections": []
    },
    "kernelspec": {
      "name": "python3",
      "display_name": "Python 3"
    },
    "accelerator": "TPU"
  },
  "cells": [
    {
      "cell_type": "code",
      "metadata": {
        "id": "Jr4rxCpl50az",
        "colab_type": "code",
        "colab": {}
      },
      "source": [
        "import numpy as np\n",
        "import pandas\n",
        "from keras.models import Sequential\n",
        "from keras.layers import Dense\n",
        "from keras.wrappers.scikit_learn import KerasRegressor\n",
        "from sklearn.model_selection import cross_val_score\n",
        "from sklearn.model_selection import KFold\n",
        "from sklearn.preprocessing import StandardScaler\n",
        "from sklearn.pipeline import Pipeline\n",
        "import matplotlib.pyplot as plt"
      ],
      "execution_count": 0,
      "outputs": []
    },
    {
      "cell_type": "code",
      "metadata": {
        "id": "1U1vAW-T50a6",
        "colab_type": "code",
        "colab": {}
      },
      "source": [
        "dataset = pandas.read_csv(\"train.csv\")\n",
        "dataset.fillna(dataset.mean(axis=0), inplace= True)"
      ],
      "execution_count": 0,
      "outputs": []
    },
    {
      "cell_type": "code",
      "metadata": {
        "id": "RVUCdA-_50bB",
        "colab_type": "code",
        "colab": {}
      },
      "source": [
        "X = dataset.iloc[:,0:27]\n",
        "Y = dataset.iloc[:,85]"
      ],
      "execution_count": 0,
      "outputs": []
    },
    {
      "cell_type": "code",
      "metadata": {
        "id": "sdCgAZaA50bH",
        "colab_type": "code",
        "colab": {
          "base_uri": "https://localhost:8080/",
          "height": 238
        },
        "outputId": "5fe52d6b-a5c9-4788-8bf1-4809bca6b092"
      },
      "source": [
        "dataset.values"
      ],
      "execution_count": 83,
      "outputs": [
        {
          "output_type": "execute_result",
          "data": {
            "text/plain": [
              "array([[ 1.00000000e+00,  3.59277381e+00, -1.11280448e-01, ...,\n",
              "         2.88463645e-02,  1.25150797e+06,  1.56438496e+06],\n",
              "       [ 2.00000000e+00,  3.59277381e+00, -1.11280448e-01, ...,\n",
              "        -1.02532062e-02,  1.73395035e+06,  2.16743794e+06],\n",
              "       [ 3.00000000e+00,  3.59277381e+00, -6.96726938e-01, ...,\n",
              "         1.57107386e-02,  1.52919738e+06,  1.91149673e+06],\n",
              "       ...,\n",
              "       [ 3.19450000e+04,  3.59277381e+00,  2.76773320e-01, ...,\n",
              "        -9.69117311e-03,  1.62688372e+06,  2.03360465e+06],\n",
              "       [ 3.19460000e+04,  3.59277381e+00, -1.70382893e-01, ...,\n",
              "        -7.43004499e-03,  1.32941587e+06,  1.66176983e+06],\n",
              "       [ 3.19470000e+04,  3.59277381e+00, -2.54268188e-01, ...,\n",
              "         6.22248996e-05,  1.50495457e+06,  1.88119322e+06]])"
            ]
          },
          "metadata": {
            "tags": []
          },
          "execution_count": 83
        }
      ]
    },
    {
      "cell_type": "code",
      "metadata": {
        "id": "sbWTj3yH50bL",
        "colab_type": "code",
        "colab": {
          "base_uri": "https://localhost:8080/",
          "height": 224
        },
        "outputId": "a161d0f7-d5fa-470d-d40d-0ef4b796d76b"
      },
      "source": [
        "#Normalization\n",
        "X.head()"
      ],
      "execution_count": 84,
      "outputs": [
        {
          "output_type": "execute_result",
          "data": {
            "text/html": [
              "<div>\n",
              "<style scoped>\n",
              "    .dataframe tbody tr th:only-of-type {\n",
              "        vertical-align: middle;\n",
              "    }\n",
              "\n",
              "    .dataframe tbody tr th {\n",
              "        vertical-align: top;\n",
              "    }\n",
              "\n",
              "    .dataframe thead th {\n",
              "        text-align: right;\n",
              "    }\n",
              "</style>\n",
              "<table border=\"1\" class=\"dataframe\">\n",
              "  <thead>\n",
              "    <tr style=\"text-align: right;\">\n",
              "      <th></th>\n",
              "      <th>Id</th>\n",
              "      <th>Feature_1</th>\n",
              "      <th>Feature_2</th>\n",
              "      <th>Feature_3</th>\n",
              "      <th>Feature_4</th>\n",
              "      <th>Feature_5</th>\n",
              "      <th>Feature_6</th>\n",
              "      <th>Feature_7</th>\n",
              "      <th>Feature_8</th>\n",
              "      <th>Feature_9</th>\n",
              "      <th>Feature_10</th>\n",
              "      <th>Feature_11</th>\n",
              "      <th>Feature_12</th>\n",
              "      <th>Feature_13</th>\n",
              "      <th>Feature_14</th>\n",
              "      <th>Feature_15</th>\n",
              "      <th>Feature_16</th>\n",
              "      <th>Feature_17</th>\n",
              "      <th>Feature_18</th>\n",
              "      <th>Feature_19</th>\n",
              "      <th>Feature_20</th>\n",
              "      <th>Feature_21</th>\n",
              "      <th>Feature_22</th>\n",
              "      <th>Feature_23</th>\n",
              "      <th>Feature_24</th>\n",
              "      <th>Feature_25</th>\n",
              "      <th>Ret_MinusTwo</th>\n",
              "    </tr>\n",
              "  </thead>\n",
              "  <tbody>\n",
              "    <tr>\n",
              "      <th>0</th>\n",
              "      <td>1</td>\n",
              "      <td>3.592774</td>\n",
              "      <td>-0.111280</td>\n",
              "      <td>0.556877</td>\n",
              "      <td>0.404199</td>\n",
              "      <td>8.0</td>\n",
              "      <td>0.427032</td>\n",
              "      <td>75751</td>\n",
              "      <td>0.2254</td>\n",
              "      <td>11.0</td>\n",
              "      <td>4.74273</td>\n",
              "      <td>-0.570295</td>\n",
              "      <td>0.49</td>\n",
              "      <td>5.0</td>\n",
              "      <td>1.842984</td>\n",
              "      <td>27.053679</td>\n",
              "      <td>1.0</td>\n",
              "      <td>-0.548365</td>\n",
              "      <td>0.800817</td>\n",
              "      <td>-0.925463</td>\n",
              "      <td>2.0</td>\n",
              "      <td>0.603987</td>\n",
              "      <td>-0.489492</td>\n",
              "      <td>0.806593</td>\n",
              "      <td>-1.205307</td>\n",
              "      <td>-0.331695</td>\n",
              "      <td>0.055275</td>\n",
              "    </tr>\n",
              "    <tr>\n",
              "      <th>1</th>\n",
              "      <td>2</td>\n",
              "      <td>3.592774</td>\n",
              "      <td>-0.111280</td>\n",
              "      <td>0.556877</td>\n",
              "      <td>0.404199</td>\n",
              "      <td>3.0</td>\n",
              "      <td>0.388896</td>\n",
              "      <td>17369</td>\n",
              "      <td>0.0166</td>\n",
              "      <td>13.0</td>\n",
              "      <td>4.74273</td>\n",
              "      <td>-0.409923</td>\n",
              "      <td>0.71</td>\n",
              "      <td>9.0</td>\n",
              "      <td>1.577586</td>\n",
              "      <td>9.546915</td>\n",
              "      <td>1.0</td>\n",
              "      <td>-0.949891</td>\n",
              "      <td>0.917958</td>\n",
              "      <td>-0.897067</td>\n",
              "      <td>9.0</td>\n",
              "      <td>0.886205</td>\n",
              "      <td>-0.151805</td>\n",
              "      <td>1.239856</td>\n",
              "      <td>0.953424</td>\n",
              "      <td>-0.709462</td>\n",
              "      <td>0.009748</td>\n",
              "    </tr>\n",
              "    <tr>\n",
              "      <th>2</th>\n",
              "      <td>3</td>\n",
              "      <td>3.592774</td>\n",
              "      <td>-0.696727</td>\n",
              "      <td>0.739591</td>\n",
              "      <td>-0.167928</td>\n",
              "      <td>9.0</td>\n",
              "      <td>0.471947</td>\n",
              "      <td>8277</td>\n",
              "      <td>0.3650</td>\n",
              "      <td>9.0</td>\n",
              "      <td>5.00000</td>\n",
              "      <td>-0.473024</td>\n",
              "      <td>0.03</td>\n",
              "      <td>6.0</td>\n",
              "      <td>1.871160</td>\n",
              "      <td>9.647559</td>\n",
              "      <td>1.0</td>\n",
              "      <td>-1.132426</td>\n",
              "      <td>1.799813</td>\n",
              "      <td>-1.603488</td>\n",
              "      <td>3.0</td>\n",
              "      <td>0.603987</td>\n",
              "      <td>0.389061</td>\n",
              "      <td>1.728096</td>\n",
              "      <td>-1.798090</td>\n",
              "      <td>-1.019370</td>\n",
              "      <td>0.003077</td>\n",
              "    </tr>\n",
              "    <tr>\n",
              "      <th>3</th>\n",
              "      <td>4</td>\n",
              "      <td>3.592774</td>\n",
              "      <td>-0.694350</td>\n",
              "      <td>1.568248</td>\n",
              "      <td>0.479073</td>\n",
              "      <td>5.0</td>\n",
              "      <td>0.120653</td>\n",
              "      <td>22508</td>\n",
              "      <td>0.2654</td>\n",
              "      <td>13.0</td>\n",
              "      <td>5.00000</td>\n",
              "      <td>-2.138383</td>\n",
              "      <td>0.00</td>\n",
              "      <td>6.0</td>\n",
              "      <td>1.589068</td>\n",
              "      <td>1.801865</td>\n",
              "      <td>1.0</td>\n",
              "      <td>-1.131213</td>\n",
              "      <td>1.565036</td>\n",
              "      <td>-1.204492</td>\n",
              "      <td>7.0</td>\n",
              "      <td>1.148738</td>\n",
              "      <td>-2.440799</td>\n",
              "      <td>1.551425</td>\n",
              "      <td>-1.788725</td>\n",
              "      <td>-0.331695</td>\n",
              "      <td>0.000984</td>\n",
              "    </tr>\n",
              "    <tr>\n",
              "      <th>4</th>\n",
              "      <td>5</td>\n",
              "      <td>6.000000</td>\n",
              "      <td>-1.736489</td>\n",
              "      <td>2.765531</td>\n",
              "      <td>1.245280</td>\n",
              "      <td>7.0</td>\n",
              "      <td>4.866985</td>\n",
              "      <td>22423</td>\n",
              "      <td>0.2138</td>\n",
              "      <td>13.0</td>\n",
              "      <td>4.00000</td>\n",
              "      <td>-4.795565</td>\n",
              "      <td>0.97</td>\n",
              "      <td>5.0</td>\n",
              "      <td>0.842102</td>\n",
              "      <td>9.198895</td>\n",
              "      <td>1.0</td>\n",
              "      <td>6.317498</td>\n",
              "      <td>-3.208872</td>\n",
              "      <td>-1.102189</td>\n",
              "      <td>7.0</td>\n",
              "      <td>3.381040</td>\n",
              "      <td>1.732708</td>\n",
              "      <td>1.965189</td>\n",
              "      <td>-5.993092</td>\n",
              "      <td>3.219820</td>\n",
              "      <td>-0.018224</td>\n",
              "    </tr>\n",
              "  </tbody>\n",
              "</table>\n",
              "</div>"
            ],
            "text/plain": [
              "   Id  Feature_1  Feature_2  ...  Feature_24  Feature_25  Ret_MinusTwo\n",
              "0   1   3.592774  -0.111280  ...   -1.205307   -0.331695      0.055275\n",
              "1   2   3.592774  -0.111280  ...    0.953424   -0.709462      0.009748\n",
              "2   3   3.592774  -0.696727  ...   -1.798090   -1.019370      0.003077\n",
              "3   4   3.592774  -0.694350  ...   -1.788725   -0.331695      0.000984\n",
              "4   5   6.000000  -1.736489  ...   -5.993092    3.219820     -0.018224\n",
              "\n",
              "[5 rows x 27 columns]"
            ]
          },
          "metadata": {
            "tags": []
          },
          "execution_count": 84
        }
      ]
    },
    {
      "cell_type": "code",
      "metadata": {
        "id": "ZxY9qAJL9xtv",
        "colab_type": "code",
        "colab": {}
      },
      "source": [
        "from sklearn.preprocessing import MinMaxScaler"
      ],
      "execution_count": 0,
      "outputs": []
    },
    {
      "cell_type": "code",
      "metadata": {
        "id": "7vrlg1NS50bV",
        "colab_type": "code",
        "colab": {}
      },
      "source": [
        "norm = MinMaxScaler()\n",
        "norm.fit(X)\n",
        "NormX = norm.transform(X)"
      ],
      "execution_count": 0,
      "outputs": []
    },
    {
      "cell_type": "code",
      "metadata": {
        "id": "m0JvguCa50bY",
        "colab_type": "code",
        "colab": {
          "base_uri": "https://localhost:8080/",
          "height": 119
        },
        "outputId": "68f95d85-2cef-4076-eb87-366da09bad0d"
      },
      "source": [
        "Y.head()"
      ],
      "execution_count": 87,
      "outputs": [
        {
          "output_type": "execute_result",
          "data": {
            "text/plain": [
              "0   -0.001152\n",
              "1   -0.000180\n",
              "2   -0.000284\n",
              "3   -0.000076\n",
              "4    0.000020\n",
              "Name: Ret_59, dtype: float64"
            ]
          },
          "metadata": {
            "tags": []
          },
          "execution_count": 87
        }
      ]
    },
    {
      "cell_type": "code",
      "metadata": {
        "id": "iwvX9_xujs3E",
        "colab_type": "code",
        "colab": {}
      },
      "source": [
        "model = Sequential()\n",
        "model.add(Dense(12, input_dim = 27, kernel_initializer = 'normal'))\n",
        "model.add(Dense(8, activation = 'relu'))"
      ],
      "execution_count": 0,
      "outputs": []
    },
    {
      "cell_type": "code",
      "metadata": {
        "id": "aF_rPIsgjuUS",
        "colab_type": "code",
        "colab": {}
      },
      "source": [
        "model.add(Dense(1, activation = 'linear'))"
      ],
      "execution_count": 0,
      "outputs": []
    },
    {
      "cell_type": "code",
      "metadata": {
        "id": "nYB7AKq9kKWl",
        "colab_type": "code",
        "colab": {
          "base_uri": "https://localhost:8080/",
          "height": 238
        },
        "outputId": "33aeb3d4-b979-4153-9bd5-15eb75d928bf"
      },
      "source": [
        "model.summary()"
      ],
      "execution_count": 90,
      "outputs": [
        {
          "output_type": "stream",
          "text": [
            "_________________________________________________________________\n",
            "Layer (type)                 Output Shape              Param #   \n",
            "=================================================================\n",
            "dense_9 (Dense)              (None, 12)                336       \n",
            "_________________________________________________________________\n",
            "dense_10 (Dense)             (None, 8)                 104       \n",
            "_________________________________________________________________\n",
            "dense_11 (Dense)             (None, 1)                 9         \n",
            "=================================================================\n",
            "Total params: 449\n",
            "Trainable params: 449\n",
            "Non-trainable params: 0\n",
            "_________________________________________________________________\n"
          ],
          "name": "stdout"
        }
      ]
    },
    {
      "cell_type": "code",
      "metadata": {
        "id": "OthvTHqzkLpF",
        "colab_type": "code",
        "colab": {}
      },
      "source": [
        "model.compile(loss = 'mse', optimizer = 'adam', metrics = ['mse','mae','accuracy'])"
      ],
      "execution_count": 0,
      "outputs": []
    },
    {
      "cell_type": "code",
      "metadata": {
        "id": "C78LG5AykbrH",
        "colab_type": "code",
        "colab": {
          "base_uri": "https://localhost:8080/",
          "height": 1737
        },
        "outputId": "cf4ecc74-4ce3-43f7-8c93-34b7e952131a"
      },
      "source": [
        "history = model.fit(NormX, Y, epochs=50, batch_size=10)"
      ],
      "execution_count": 92,
      "outputs": [
        {
          "output_type": "stream",
          "text": [
            "Epoch 1/50\n",
            "31947/31947 [==============================] - 3s 109us/step - loss: 2.1605e-05 - mean_squared_error: 2.1605e-05 - mean_absolute_error: 0.0016 - acc: 0.0061\n",
            "Epoch 2/50\n",
            "31947/31947 [==============================] - 3s 98us/step - loss: 1.3233e-06 - mean_squared_error: 1.3233e-06 - mean_absolute_error: 7.8603e-04 - acc: 0.0061\n",
            "Epoch 3/50\n",
            "31947/31947 [==============================] - 3s 99us/step - loss: 1.3800e-06 - mean_squared_error: 1.3800e-06 - mean_absolute_error: 8.0415e-04 - acc: 0.0061\n",
            "Epoch 4/50\n",
            "31947/31947 [==============================] - 3s 99us/step - loss: 1.2572e-06 - mean_squared_error: 1.2572e-06 - mean_absolute_error: 7.5641e-04 - acc: 0.0061\n",
            "Epoch 5/50\n",
            "31947/31947 [==============================] - 3s 98us/step - loss: 1.2155e-06 - mean_squared_error: 1.2155e-06 - mean_absolute_error: 7.2446e-04 - acc: 0.0061\n",
            "Epoch 6/50\n",
            "31947/31947 [==============================] - 3s 99us/step - loss: 1.0863e-06 - mean_squared_error: 1.0863e-06 - mean_absolute_error: 6.7194e-04 - acc: 0.0061\n",
            "Epoch 7/50\n",
            "31947/31947 [==============================] - 3s 99us/step - loss: 1.0161e-06 - mean_squared_error: 1.0161e-06 - mean_absolute_error: 6.3064e-04 - acc: 0.0061\n",
            "Epoch 8/50\n",
            "31947/31947 [==============================] - 3s 98us/step - loss: 1.0033e-06 - mean_squared_error: 1.0033e-06 - mean_absolute_error: 6.2367e-04 - acc: 0.0061\n",
            "Epoch 9/50\n",
            "31947/31947 [==============================] - 3s 99us/step - loss: 1.0238e-06 - mean_squared_error: 1.0238e-06 - mean_absolute_error: 6.3138e-04 - acc: 0.0061\n",
            "Epoch 10/50\n",
            "31947/31947 [==============================] - 3s 100us/step - loss: 9.9352e-07 - mean_squared_error: 9.9352e-07 - mean_absolute_error: 6.1377e-04 - acc: 0.0061\n",
            "Epoch 11/50\n",
            "31947/31947 [==============================] - 3s 99us/step - loss: 1.0025e-06 - mean_squared_error: 1.0025e-06 - mean_absolute_error: 6.2051e-04 - acc: 0.0061\n",
            "Epoch 12/50\n",
            "31947/31947 [==============================] - 3s 97us/step - loss: 1.0196e-06 - mean_squared_error: 1.0196e-06 - mean_absolute_error: 6.3069e-04 - acc: 0.0061\n",
            "Epoch 13/50\n",
            "31947/31947 [==============================] - 3s 98us/step - loss: 1.0090e-06 - mean_squared_error: 1.0090e-06 - mean_absolute_error: 6.2709e-04 - acc: 0.0061\n",
            "Epoch 14/50\n",
            "31947/31947 [==============================] - 3s 100us/step - loss: 1.0127e-06 - mean_squared_error: 1.0127e-06 - mean_absolute_error: 6.2460e-04 - acc: 0.0061\n",
            "Epoch 15/50\n",
            "31947/31947 [==============================] - 3s 100us/step - loss: 1.0039e-06 - mean_squared_error: 1.0039e-06 - mean_absolute_error: 6.2056e-04 - acc: 0.0061\n",
            "Epoch 16/50\n",
            "31947/31947 [==============================] - 3s 99us/step - loss: 1.0260e-06 - mean_squared_error: 1.0260e-06 - mean_absolute_error: 6.3446e-04 - acc: 0.0061\n",
            "Epoch 17/50\n",
            "31947/31947 [==============================] - 3s 99us/step - loss: 1.0147e-06 - mean_squared_error: 1.0147e-06 - mean_absolute_error: 6.2822e-04 - acc: 0.0061\n",
            "Epoch 18/50\n",
            "31947/31947 [==============================] - 3s 101us/step - loss: 1.0292e-06 - mean_squared_error: 1.0292e-06 - mean_absolute_error: 6.3514e-04 - acc: 0.0061\n",
            "Epoch 19/50\n",
            "31947/31947 [==============================] - 3s 100us/step - loss: 9.9896e-07 - mean_squared_error: 9.9896e-07 - mean_absolute_error: 6.1846e-04 - acc: 0.0061\n",
            "Epoch 20/50\n",
            "31947/31947 [==============================] - 3s 99us/step - loss: 1.0099e-06 - mean_squared_error: 1.0099e-06 - mean_absolute_error: 6.2827e-04 - acc: 0.0061\n",
            "Epoch 21/50\n",
            "31947/31947 [==============================] - 3s 100us/step - loss: 1.0100e-06 - mean_squared_error: 1.0100e-06 - mean_absolute_error: 6.2277e-04 - acc: 0.0061\n",
            "Epoch 22/50\n",
            "31947/31947 [==============================] - 3s 99us/step - loss: 1.0151e-06 - mean_squared_error: 1.0151e-06 - mean_absolute_error: 6.2703e-04 - acc: 0.0061\n",
            "Epoch 23/50\n",
            "31947/31947 [==============================] - 3s 100us/step - loss: 1.0031e-06 - mean_squared_error: 1.0031e-06 - mean_absolute_error: 6.1889e-04 - acc: 0.0061\n",
            "Epoch 24/50\n",
            "31947/31947 [==============================] - 3s 99us/step - loss: 1.0012e-06 - mean_squared_error: 1.0012e-06 - mean_absolute_error: 6.1905e-04 - acc: 0.0061\n",
            "Epoch 25/50\n",
            "31947/31947 [==============================] - 3s 99us/step - loss: 1.0077e-06 - mean_squared_error: 1.0077e-06 - mean_absolute_error: 6.2689e-04 - acc: 0.0061\n",
            "Epoch 26/50\n",
            "31947/31947 [==============================] - 3s 99us/step - loss: 1.0021e-06 - mean_squared_error: 1.0021e-06 - mean_absolute_error: 6.1989e-04 - acc: 0.0061\n",
            "Epoch 27/50\n",
            "31947/31947 [==============================] - 3s 99us/step - loss: 1.0200e-06 - mean_squared_error: 1.0200e-06 - mean_absolute_error: 6.3264e-04 - acc: 0.0061\n",
            "Epoch 28/50\n",
            "31947/31947 [==============================] - 3s 98us/step - loss: 1.0022e-06 - mean_squared_error: 1.0022e-06 - mean_absolute_error: 6.2023e-04 - acc: 0.0061\n",
            "Epoch 29/50\n",
            "31947/31947 [==============================] - 3s 98us/step - loss: 1.0009e-06 - mean_squared_error: 1.0009e-06 - mean_absolute_error: 6.2050e-04 - acc: 0.0061\n",
            "Epoch 30/50\n",
            "31947/31947 [==============================] - 3s 98us/step - loss: 1.0003e-06 - mean_squared_error: 1.0003e-06 - mean_absolute_error: 6.1510e-04 - acc: 0.0061\n",
            "Epoch 31/50\n",
            "31947/31947 [==============================] - 3s 101us/step - loss: 1.0084e-06 - mean_squared_error: 1.0084e-06 - mean_absolute_error: 6.2532e-04 - acc: 0.0061\n",
            "Epoch 32/50\n",
            "31947/31947 [==============================] - 3s 99us/step - loss: 9.9421e-07 - mean_squared_error: 9.9421e-07 - mean_absolute_error: 6.1451e-04 - acc: 0.0061\n",
            "Epoch 33/50\n",
            "31947/31947 [==============================] - 3s 99us/step - loss: 1.0142e-06 - mean_squared_error: 1.0142e-06 - mean_absolute_error: 6.3132e-04 - acc: 0.0061\n",
            "Epoch 34/50\n",
            "31947/31947 [==============================] - 3s 98us/step - loss: 1.0023e-06 - mean_squared_error: 1.0023e-06 - mean_absolute_error: 6.1933e-04 - acc: 0.0061\n",
            "Epoch 35/50\n",
            "31947/31947 [==============================] - 3s 99us/step - loss: 1.0043e-06 - mean_squared_error: 1.0043e-06 - mean_absolute_error: 6.1838e-04 - acc: 0.0061\n",
            "Epoch 36/50\n",
            "31947/31947 [==============================] - 3s 99us/step - loss: 1.0150e-06 - mean_squared_error: 1.0150e-06 - mean_absolute_error: 6.2885e-04 - acc: 0.0061\n",
            "Epoch 37/50\n",
            "31947/31947 [==============================] - 3s 98us/step - loss: 1.0173e-06 - mean_squared_error: 1.0173e-06 - mean_absolute_error: 6.2637e-04 - acc: 0.0061\n",
            "Epoch 38/50\n",
            "31947/31947 [==============================] - 3s 99us/step - loss: 1.0119e-06 - mean_squared_error: 1.0119e-06 - mean_absolute_error: 6.2683e-04 - acc: 0.0061\n",
            "Epoch 39/50\n",
            "31947/31947 [==============================] - 3s 98us/step - loss: 1.0055e-06 - mean_squared_error: 1.0055e-06 - mean_absolute_error: 6.2314e-04 - acc: 0.0061\n",
            "Epoch 40/50\n",
            "31947/31947 [==============================] - 3s 100us/step - loss: 1.0225e-06 - mean_squared_error: 1.0225e-06 - mean_absolute_error: 6.3258e-04 - acc: 0.0061\n",
            "Epoch 41/50\n",
            "31947/31947 [==============================] - 3s 99us/step - loss: 1.0039e-06 - mean_squared_error: 1.0039e-06 - mean_absolute_error: 6.1979e-04 - acc: 0.0061\n",
            "Epoch 42/50\n",
            "31947/31947 [==============================] - 3s 101us/step - loss: 1.0071e-06 - mean_squared_error: 1.0071e-06 - mean_absolute_error: 6.2300e-04 - acc: 0.0061\n",
            "Epoch 43/50\n",
            "31947/31947 [==============================] - 3s 101us/step - loss: 1.0109e-06 - mean_squared_error: 1.0109e-06 - mean_absolute_error: 6.2734e-04 - acc: 0.0061\n",
            "Epoch 44/50\n",
            "31947/31947 [==============================] - 3s 98us/step - loss: 1.0079e-06 - mean_squared_error: 1.0079e-06 - mean_absolute_error: 6.2256e-04 - acc: 0.0061\n",
            "Epoch 45/50\n",
            "31947/31947 [==============================] - 3s 98us/step - loss: 1.0047e-06 - mean_squared_error: 1.0047e-06 - mean_absolute_error: 6.2380e-04 - acc: 0.0061\n",
            "Epoch 46/50\n",
            "31947/31947 [==============================] - 3s 98us/step - loss: 1.0198e-06 - mean_squared_error: 1.0198e-06 - mean_absolute_error: 6.3145e-04 - acc: 0.0061\n",
            "Epoch 47/50\n",
            "31947/31947 [==============================] - 3s 100us/step - loss: 1.0010e-06 - mean_squared_error: 1.0010e-06 - mean_absolute_error: 6.1965e-04 - acc: 0.0061\n",
            "Epoch 48/50\n",
            "31947/31947 [==============================] - 3s 100us/step - loss: 1.0222e-06 - mean_squared_error: 1.0222e-06 - mean_absolute_error: 6.3516e-04 - acc: 0.0061\n",
            "Epoch 49/50\n",
            "31947/31947 [==============================] - 3s 98us/step - loss: 1.0050e-06 - mean_squared_error: 1.0050e-06 - mean_absolute_error: 6.2420e-04 - acc: 0.0061\n",
            "Epoch 50/50\n",
            "31947/31947 [==============================] - 3s 101us/step - loss: 1.0175e-06 - mean_squared_error: 1.0175e-06 - mean_absolute_error: 6.2832e-04 - acc: 0.0061\n"
          ],
          "name": "stdout"
        }
      ]
    },
    {
      "cell_type": "code",
      "metadata": {
        "id": "RL01YW6akkNS",
        "colab_type": "code",
        "colab": {
          "base_uri": "https://localhost:8080/",
          "height": 312
        },
        "outputId": "a37d2fb5-4d4e-46a8-d555-b6adb3aeba17"
      },
      "source": [
        "plt.plot(history.history['loss'])\n",
        "plt.title('model loss')\n",
        "plt.xlabel('epoch')\n",
        "plt.ylabel('loss')\n",
        "plt.legend(['train'], loc= 'upper left')\n",
        "plt.show"
      ],
      "execution_count": 93,
      "outputs": [
        {
          "output_type": "execute_result",
          "data": {
            "text/plain": [
              "<function matplotlib.pyplot.show>"
            ]
          },
          "metadata": {
            "tags": []
          },
          "execution_count": 93
        },
        {
          "output_type": "display_data",
          "data": {
            "image/png": "[encoded data removed]",
            "text/plain": [
              "<Figure size 432x288 with 1 Axes>"
            ]
          },
          "metadata": {
            "tags": []
          }
        }
      ]
    },
    {
      "cell_type": "code",
      "metadata": {
        "id": "2SJkxl_nlGSP",
        "colab_type": "code",
        "colab": {}
      },
      "source": [
        "test_data = pandas.read_csv('test_2.csv')\n",
        "test_data.fillna(test_data.mean(axis = 0), inplace = True)"
      ],
      "execution_count": 0,
      "outputs": []
    },
    {
      "cell_type": "code",
      "metadata": {
        "id": "rs0BXui7lpmF",
        "colab_type": "code",
        "colab": {}
      },
      "source": [
        "X_test = test_data.iloc[:,0:27]\n",
        "Y_test = test_data.iloc[:,85]"
      ],
      "execution_count": 0,
      "outputs": []
    },
    {
      "cell_type": "code",
      "metadata": {
        "id": "m-3jErX8mDQm",
        "colab_type": "code",
        "colab": {}
      },
      "source": [
        "norm = MinMaxScaler()\n",
        "norm.fit(X_test)\n",
        "NormX_test = norm.transform(X_test)"
      ],
      "execution_count": 0,
      "outputs": []
    },
    {
      "cell_type": "code",
      "metadata": {
        "id": "UZg7hryEmIaL",
        "colab_type": "code",
        "colab": {}
      },
      "source": [
        "Y_new = model.predict(NormX)"
      ],
      "execution_count": 0,
      "outputs": []
    },
    {
      "cell_type": "code",
      "metadata": {
        "id": "9j8ZBP7GmWmz",
        "colab_type": "code",
        "colab": {
          "base_uri": "https://localhost:8080/",
          "height": 312
        },
        "outputId": "ea6ad5d1-705f-4f3f-aed6-18293fcf9917"
      },
      "source": [
        "plt.plot(Y_new)\n",
        "plt.plot(Y_test)\n",
        "plt.title('model loss')\n",
        "plt.xlabel('data')\n",
        "plt.ylabel('value')\n",
        "\n",
        "plt.show"
      ],
      "execution_count": 98,
      "outputs": [
        {
          "output_type": "execute_result",
          "data": {
            "text/plain": [
              "<function matplotlib.pyplot.show>"
            ]
          },
          "metadata": {
            "tags": []
          },
          "execution_count": 98
        },
        {
          "output_type": "display_data",
          "data": {
            "image/png": "[encoded data removed]",
            "text/plain": [
              "<Figure size 432x288 with 1 Axes>"
            ]
          },
          "metadata": {
            "tags": []
          }
        }
      ]
    }
  ]
}