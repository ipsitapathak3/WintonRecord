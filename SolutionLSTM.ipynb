{
  "nbformat": 4,
  "nbformat_minor": 0,
  "metadata": {
    "colab": {
      "name": "SolutionLSTM.ipynb",
      "version": "0.3.2",
      "provenance": [],
      "collapsed_sections": []
    },
    "kernelspec": {
      "name": "python3",
      "display_name": "Python 3"
    },
    "accelerator": "TPU"
  },
  "cells": [
    {
      "cell_type": "code",
      "metadata": {
        "id": "Dr62BfHk1IS2",
        "colab_type": "code",
        "colab": {
          "base_uri": "https://localhost:8080/",
          "height": 34
        },
        "outputId": "b076ae5a-a759-4a79-a835-5c916ef5a4fc"
      },
      "source": [
        "import numpy\n",
        "import pandas as pd\n",
        "from keras.models import Sequential\n",
        "from keras.layers import Dense\n",
        "from keras.wrappers.scikit_learn import KerasRegressor\n",
        "from sklearn.model_selection import cross_val_score\n",
        "from sklearn.model_selection import KFold\n",
        "from sklearn.preprocessing import StandardScaler\n",
        "from sklearn.pipeline import Pipeline\n",
        "from sklearn.preprocessing import MinMaxScaler\n",
        "import matplotlib.pyplot as plt"
      ],
      "execution_count": 1,
      "outputs": [
        {
          "output_type": "stream",
          "text": [
            "Using TensorFlow backend.\n"
          ],
          "name": "stderr"
        }
      ]
    },
    {
      "cell_type": "code",
      "metadata": {
        "id": "6RM6RrXa1K1q",
        "colab_type": "code",
        "outputId": "6c497941-8fd7-4e83-fe93-dba353b76205",
        "colab": {
          "base_uri": "https://localhost:8080/",
          "height": 338
        }
      },
      "source": [
        "dataset = pd.read_csv('train.csv')\n",
        "dataset.fillna(dataset.mean(axis=0), inplace=True)\n",
        "dataset.head()"
      ],
      "execution_count": 2,
      "outputs": [
        {
          "output_type": "execute_result",
          "data": {
            "text/html": [
              "<div>\n",
              "<style scoped>\n",
              "    .dataframe tbody tr th:only-of-type {\n",
              "        vertical-align: middle;\n",
              "    }\n",
              "\n",
              "    .dataframe tbody tr th {\n",
              "        vertical-align: top;\n",
              "    }\n",
              "\n",
              "    .dataframe thead th {\n",
              "        text-align: right;\n",
              "    }\n",
              "</style>\n",
              "<table border=\"1\" class=\"dataframe\">\n",
              "  <thead>\n",
              "    <tr style=\"text-align: right;\">\n",
              "      <th></th>\n",
              "      <th>Id</th>\n",
              "      <th>Feature_1</th>\n",
              "      <th>Feature_2</th>\n",
              "      <th>Feature_3</th>\n",
              "      <th>Feature_4</th>\n",
              "      <th>Feature_5</th>\n",
              "      <th>Feature_6</th>\n",
              "      <th>Feature_7</th>\n",
              "      <th>Feature_8</th>\n",
              "      <th>Feature_9</th>\n",
              "      <th>Feature_10</th>\n",
              "      <th>Feature_11</th>\n",
              "      <th>Feature_12</th>\n",
              "      <th>Feature_13</th>\n",
              "      <th>Feature_14</th>\n",
              "      <th>Feature_15</th>\n",
              "      <th>Feature_16</th>\n",
              "      <th>Feature_17</th>\n",
              "      <th>Feature_18</th>\n",
              "      <th>Feature_19</th>\n",
              "      <th>Feature_20</th>\n",
              "      <th>Feature_21</th>\n",
              "      <th>Feature_22</th>\n",
              "      <th>Feature_23</th>\n",
              "      <th>Feature_24</th>\n",
              "      <th>Feature_25</th>\n",
              "      <th>Ret_MinusTwo</th>\n",
              "      <th>Ret_MinusOne</th>\n",
              "      <th>Ret_2</th>\n",
              "      <th>Ret_3</th>\n",
              "      <th>Ret_4</th>\n",
              "      <th>Ret_5</th>\n",
              "      <th>Ret_6</th>\n",
              "      <th>Ret_7</th>\n",
              "      <th>Ret_8</th>\n",
              "      <th>Ret_9</th>\n",
              "      <th>Ret_10</th>\n",
              "      <th>Ret_11</th>\n",
              "      <th>Ret_12</th>\n",
              "      <th>Ret_13</th>\n",
              "      <th>...</th>\n",
              "      <th>Ret_145</th>\n",
              "      <th>Ret_146</th>\n",
              "      <th>Ret_147</th>\n",
              "      <th>Ret_148</th>\n",
              "      <th>Ret_149</th>\n",
              "      <th>Ret_150</th>\n",
              "      <th>Ret_151</th>\n",
              "      <th>Ret_152</th>\n",
              "      <th>Ret_153</th>\n",
              "      <th>Ret_154</th>\n",
              "      <th>Ret_155</th>\n",
              "      <th>Ret_156</th>\n",
              "      <th>Ret_157</th>\n",
              "      <th>Ret_158</th>\n",
              "      <th>Ret_159</th>\n",
              "      <th>Ret_160</th>\n",
              "      <th>Ret_161</th>\n",
              "      <th>Ret_162</th>\n",
              "      <th>Ret_163</th>\n",
              "      <th>Ret_164</th>\n",
              "      <th>Ret_165</th>\n",
              "      <th>Ret_166</th>\n",
              "      <th>Ret_167</th>\n",
              "      <th>Ret_168</th>\n",
              "      <th>Ret_169</th>\n",
              "      <th>Ret_170</th>\n",
              "      <th>Ret_171</th>\n",
              "      <th>Ret_172</th>\n",
              "      <th>Ret_173</th>\n",
              "      <th>Ret_174</th>\n",
              "      <th>Ret_175</th>\n",
              "      <th>Ret_176</th>\n",
              "      <th>Ret_177</th>\n",
              "      <th>Ret_178</th>\n",
              "      <th>Ret_179</th>\n",
              "      <th>Ret_180</th>\n",
              "      <th>Ret_PlusOne</th>\n",
              "      <th>Ret_PlusTwo</th>\n",
              "      <th>Weight_Intraday</th>\n",
              "      <th>Weight_Daily</th>\n",
              "    </tr>\n",
              "  </thead>\n",
              "  <tbody>\n",
              "    <tr>\n",
              "      <th>0</th>\n",
              "      <td>1</td>\n",
              "      <td>3.59025</td>\n",
              "      <td>-0.117558</td>\n",
              "      <td>0.558392</td>\n",
              "      <td>0.405572</td>\n",
              "      <td>8.0</td>\n",
              "      <td>0.430972</td>\n",
              "      <td>75751</td>\n",
              "      <td>0.2254</td>\n",
              "      <td>11.0</td>\n",
              "      <td>4.744703</td>\n",
              "      <td>-0.572244</td>\n",
              "      <td>0.49</td>\n",
              "      <td>5.0</td>\n",
              "      <td>1.842984</td>\n",
              "      <td>27.053679</td>\n",
              "      <td>1.0</td>\n",
              "      <td>-0.549725</td>\n",
              "      <td>0.803059</td>\n",
              "      <td>-0.925463</td>\n",
              "      <td>2.0</td>\n",
              "      <td>0.605593</td>\n",
              "      <td>-0.489492</td>\n",
              "      <td>0.799833</td>\n",
              "      <td>-1.209290</td>\n",
              "      <td>-0.329675</td>\n",
              "      <td>0.055275</td>\n",
              "      <td>-0.010770</td>\n",
              "      <td>0.000003</td>\n",
              "      <td>-0.000734</td>\n",
              "      <td>-0.000738</td>\n",
              "      <td>-0.000007</td>\n",
              "      <td>0.000423</td>\n",
              "      <td>0.000438</td>\n",
              "      <td>-0.000076</td>\n",
              "      <td>0.000645</td>\n",
              "      <td>-0.000006</td>\n",
              "      <td>0.000006</td>\n",
              "      <td>4.886832e-07</td>\n",
              "      <td>-0.000156</td>\n",
              "      <td>...</td>\n",
              "      <td>-0.000842</td>\n",
              "      <td>-0.001390</td>\n",
              "      <td>0.000148</td>\n",
              "      <td>2.846942e-04</td>\n",
              "      <td>0.001254</td>\n",
              "      <td>-0.000130</td>\n",
              "      <td>0.000126</td>\n",
              "      <td>0.000978</td>\n",
              "      <td>0.000151</td>\n",
              "      <td>0.002642</td>\n",
              "      <td>-0.000017</td>\n",
              "      <td>0.000140</td>\n",
              "      <td>0.000015</td>\n",
              "      <td>-0.000011</td>\n",
              "      <td>0.001683</td>\n",
              "      <td>-0.000286</td>\n",
              "      <td>0.000010</td>\n",
              "      <td>0.000152</td>\n",
              "      <td>0.000579</td>\n",
              "      <td>-1.501973e-04</td>\n",
              "      <td>0.000822</td>\n",
              "      <td>0.001392</td>\n",
              "      <td>0.000292</td>\n",
              "      <td>0.000002</td>\n",
              "      <td>0.001133</td>\n",
              "      <td>-0.000134</td>\n",
              "      <td>0.001539</td>\n",
              "      <td>-0.000142</td>\n",
              "      <td>0.000861</td>\n",
              "      <td>0.000544</td>\n",
              "      <td>-0.002688</td>\n",
              "      <td>0.002246</td>\n",
              "      <td>-0.000838</td>\n",
              "      <td>-6.953224e-04</td>\n",
              "      <td>0.000003</td>\n",
              "      <td>-0.001974</td>\n",
              "      <td>-0.019512</td>\n",
              "      <td>0.028846</td>\n",
              "      <td>1.251508e+06</td>\n",
              "      <td>1.564385e+06</td>\n",
              "    </tr>\n",
              "    <tr>\n",
              "      <th>1</th>\n",
              "      <td>2</td>\n",
              "      <td>3.59025</td>\n",
              "      <td>-0.117558</td>\n",
              "      <td>0.558392</td>\n",
              "      <td>0.405572</td>\n",
              "      <td>3.0</td>\n",
              "      <td>0.388896</td>\n",
              "      <td>17369</td>\n",
              "      <td>0.0166</td>\n",
              "      <td>13.0</td>\n",
              "      <td>4.744703</td>\n",
              "      <td>-0.409923</td>\n",
              "      <td>0.71</td>\n",
              "      <td>9.0</td>\n",
              "      <td>1.577586</td>\n",
              "      <td>9.546915</td>\n",
              "      <td>1.0</td>\n",
              "      <td>-0.949891</td>\n",
              "      <td>0.917958</td>\n",
              "      <td>-0.897067</td>\n",
              "      <td>9.0</td>\n",
              "      <td>0.886205</td>\n",
              "      <td>-0.151805</td>\n",
              "      <td>1.239856</td>\n",
              "      <td>0.953424</td>\n",
              "      <td>-0.709462</td>\n",
              "      <td>0.009748</td>\n",
              "      <td>0.002987</td>\n",
              "      <td>-0.000487</td>\n",
              "      <td>0.000475</td>\n",
              "      <td>0.000002</td>\n",
              "      <td>-0.000002</td>\n",
              "      <td>-0.000523</td>\n",
              "      <td>-0.000255</td>\n",
              "      <td>-0.000008</td>\n",
              "      <td>0.000048</td>\n",
              "      <td>-0.000312</td>\n",
              "      <td>-0.000742</td>\n",
              "      <td>-9.027256e-06</td>\n",
              "      <td>-0.000248</td>\n",
              "      <td>...</td>\n",
              "      <td>-0.000104</td>\n",
              "      <td>0.000555</td>\n",
              "      <td>0.000259</td>\n",
              "      <td>2.559339e-05</td>\n",
              "      <td>0.000004</td>\n",
              "      <td>-0.000255</td>\n",
              "      <td>0.000263</td>\n",
              "      <td>0.000250</td>\n",
              "      <td>0.000104</td>\n",
              "      <td>0.000119</td>\n",
              "      <td>-0.000483</td>\n",
              "      <td>0.000128</td>\n",
              "      <td>0.000886</td>\n",
              "      <td>0.000003</td>\n",
              "      <td>0.000148</td>\n",
              "      <td>0.000623</td>\n",
              "      <td>0.000507</td>\n",
              "      <td>-0.000742</td>\n",
              "      <td>-0.000514</td>\n",
              "      <td>8.881545e-07</td>\n",
              "      <td>0.000090</td>\n",
              "      <td>-0.000361</td>\n",
              "      <td>-0.000738</td>\n",
              "      <td>-0.000502</td>\n",
              "      <td>0.000497</td>\n",
              "      <td>0.000256</td>\n",
              "      <td>-0.000256</td>\n",
              "      <td>-0.000005</td>\n",
              "      <td>-0.000497</td>\n",
              "      <td>0.000240</td>\n",
              "      <td>-0.000129</td>\n",
              "      <td>0.000123</td>\n",
              "      <td>0.000248</td>\n",
              "      <td>3.315418e-07</td>\n",
              "      <td>0.000003</td>\n",
              "      <td>0.000027</td>\n",
              "      <td>-0.002939</td>\n",
              "      <td>-0.010253</td>\n",
              "      <td>1.733950e+06</td>\n",
              "      <td>2.167438e+06</td>\n",
              "    </tr>\n",
              "    <tr>\n",
              "      <th>2</th>\n",
              "      <td>3</td>\n",
              "      <td>3.59025</td>\n",
              "      <td>-0.696727</td>\n",
              "      <td>0.739591</td>\n",
              "      <td>-0.167928</td>\n",
              "      <td>9.0</td>\n",
              "      <td>0.471947</td>\n",
              "      <td>8277</td>\n",
              "      <td>0.3650</td>\n",
              "      <td>9.0</td>\n",
              "      <td>5.000000</td>\n",
              "      <td>-0.473024</td>\n",
              "      <td>0.03</td>\n",
              "      <td>6.0</td>\n",
              "      <td>1.871160</td>\n",
              "      <td>9.647559</td>\n",
              "      <td>1.0</td>\n",
              "      <td>-1.132426</td>\n",
              "      <td>1.799813</td>\n",
              "      <td>-1.603488</td>\n",
              "      <td>3.0</td>\n",
              "      <td>0.605593</td>\n",
              "      <td>0.389061</td>\n",
              "      <td>1.728096</td>\n",
              "      <td>-1.798090</td>\n",
              "      <td>-1.019370</td>\n",
              "      <td>0.003077</td>\n",
              "      <td>0.006181</td>\n",
              "      <td>-0.000782</td>\n",
              "      <td>-0.000402</td>\n",
              "      <td>0.000807</td>\n",
              "      <td>0.000400</td>\n",
              "      <td>0.000656</td>\n",
              "      <td>-0.001177</td>\n",
              "      <td>0.001198</td>\n",
              "      <td>0.000610</td>\n",
              "      <td>-0.001031</td>\n",
              "      <td>0.000647</td>\n",
              "      <td>-9.295448e-04</td>\n",
              "      <td>-0.000543</td>\n",
              "      <td>...</td>\n",
              "      <td>-0.000003</td>\n",
              "      <td>-0.000102</td>\n",
              "      <td>-0.000292</td>\n",
              "      <td>5.032658e-04</td>\n",
              "      <td>-0.000126</td>\n",
              "      <td>-0.000135</td>\n",
              "      <td>0.000238</td>\n",
              "      <td>-0.000106</td>\n",
              "      <td>-0.000137</td>\n",
              "      <td>-0.000419</td>\n",
              "      <td>-0.000379</td>\n",
              "      <td>0.000013</td>\n",
              "      <td>0.000001</td>\n",
              "      <td>-0.000009</td>\n",
              "      <td>-0.000283</td>\n",
              "      <td>-0.000526</td>\n",
              "      <td>0.000247</td>\n",
              "      <td>-0.000134</td>\n",
              "      <td>0.000675</td>\n",
              "      <td>1.136847e-04</td>\n",
              "      <td>0.000234</td>\n",
              "      <td>-0.000506</td>\n",
              "      <td>-0.000007</td>\n",
              "      <td>-0.000249</td>\n",
              "      <td>0.000119</td>\n",
              "      <td>0.000277</td>\n",
              "      <td>0.000656</td>\n",
              "      <td>0.000127</td>\n",
              "      <td>0.000255</td>\n",
              "      <td>0.000278</td>\n",
              "      <td>-0.000524</td>\n",
              "      <td>-0.000394</td>\n",
              "      <td>0.000116</td>\n",
              "      <td>5.322557e-04</td>\n",
              "      <td>0.000274</td>\n",
              "      <td>0.000784</td>\n",
              "      <td>-0.024791</td>\n",
              "      <td>0.015711</td>\n",
              "      <td>1.529197e+06</td>\n",
              "      <td>1.911497e+06</td>\n",
              "    </tr>\n",
              "    <tr>\n",
              "      <th>3</th>\n",
              "      <td>4</td>\n",
              "      <td>3.59025</td>\n",
              "      <td>-0.694350</td>\n",
              "      <td>1.568248</td>\n",
              "      <td>0.479073</td>\n",
              "      <td>5.0</td>\n",
              "      <td>0.120653</td>\n",
              "      <td>22508</td>\n",
              "      <td>0.2654</td>\n",
              "      <td>13.0</td>\n",
              "      <td>5.000000</td>\n",
              "      <td>-2.138383</td>\n",
              "      <td>0.00</td>\n",
              "      <td>6.0</td>\n",
              "      <td>1.588524</td>\n",
              "      <td>1.801865</td>\n",
              "      <td>1.0</td>\n",
              "      <td>-1.131213</td>\n",
              "      <td>1.565036</td>\n",
              "      <td>-1.205438</td>\n",
              "      <td>7.0</td>\n",
              "      <td>1.148738</td>\n",
              "      <td>-2.440799</td>\n",
              "      <td>1.551425</td>\n",
              "      <td>-1.788725</td>\n",
              "      <td>-0.329675</td>\n",
              "      <td>0.000984</td>\n",
              "      <td>0.014106</td>\n",
              "      <td>0.000277</td>\n",
              "      <td>-0.000088</td>\n",
              "      <td>-0.000199</td>\n",
              "      <td>-0.000301</td>\n",
              "      <td>0.000711</td>\n",
              "      <td>-0.000431</td>\n",
              "      <td>-0.000144</td>\n",
              "      <td>0.000340</td>\n",
              "      <td>-0.000639</td>\n",
              "      <td>0.000420</td>\n",
              "      <td>1.449000e-04</td>\n",
              "      <td>-0.000130</td>\n",
              "      <td>...</td>\n",
              "      <td>0.000120</td>\n",
              "      <td>-0.000119</td>\n",
              "      <td>0.000285</td>\n",
              "      <td>-1.020028e-07</td>\n",
              "      <td>0.000285</td>\n",
              "      <td>-0.000350</td>\n",
              "      <td>0.000214</td>\n",
              "      <td>-0.000703</td>\n",
              "      <td>0.000153</td>\n",
              "      <td>-0.000286</td>\n",
              "      <td>0.000136</td>\n",
              "      <td>-0.000579</td>\n",
              "      <td>-0.000139</td>\n",
              "      <td>-0.000005</td>\n",
              "      <td>-0.000009</td>\n",
              "      <td>0.000010</td>\n",
              "      <td>0.000290</td>\n",
              "      <td>-0.000068</td>\n",
              "      <td>-0.000352</td>\n",
              "      <td>2.739541e-04</td>\n",
              "      <td>-0.000292</td>\n",
              "      <td>0.000446</td>\n",
              "      <td>0.000288</td>\n",
              "      <td>0.000001</td>\n",
              "      <td>0.000304</td>\n",
              "      <td>-0.000027</td>\n",
              "      <td>0.000371</td>\n",
              "      <td>-0.000055</td>\n",
              "      <td>-0.000161</td>\n",
              "      <td>-0.000155</td>\n",
              "      <td>0.000346</td>\n",
              "      <td>-0.000090</td>\n",
              "      <td>0.000288</td>\n",
              "      <td>-1.281102e-04</td>\n",
              "      <td>0.000074</td>\n",
              "      <td>0.000341</td>\n",
              "      <td>-0.005680</td>\n",
              "      <td>-0.002190</td>\n",
              "      <td>1.711569e+06</td>\n",
              "      <td>2.139462e+06</td>\n",
              "    </tr>\n",
              "    <tr>\n",
              "      <th>4</th>\n",
              "      <td>5</td>\n",
              "      <td>6.00000</td>\n",
              "      <td>-1.736489</td>\n",
              "      <td>2.765531</td>\n",
              "      <td>1.245280</td>\n",
              "      <td>7.0</td>\n",
              "      <td>4.866985</td>\n",
              "      <td>22423</td>\n",
              "      <td>0.2138</td>\n",
              "      <td>13.0</td>\n",
              "      <td>4.000000</td>\n",
              "      <td>-4.795565</td>\n",
              "      <td>0.97</td>\n",
              "      <td>5.0</td>\n",
              "      <td>0.842102</td>\n",
              "      <td>9.198895</td>\n",
              "      <td>1.0</td>\n",
              "      <td>6.317498</td>\n",
              "      <td>-3.208872</td>\n",
              "      <td>-1.102189</td>\n",
              "      <td>7.0</td>\n",
              "      <td>3.381040</td>\n",
              "      <td>1.732708</td>\n",
              "      <td>1.965189</td>\n",
              "      <td>-5.993092</td>\n",
              "      <td>3.219820</td>\n",
              "      <td>-0.018224</td>\n",
              "      <td>0.011065</td>\n",
              "      <td>-0.001232</td>\n",
              "      <td>0.000002</td>\n",
              "      <td>-0.001205</td>\n",
              "      <td>-0.000021</td>\n",
              "      <td>0.000005</td>\n",
              "      <td>0.000623</td>\n",
              "      <td>-0.001843</td>\n",
              "      <td>0.000005</td>\n",
              "      <td>0.001226</td>\n",
              "      <td>0.001213</td>\n",
              "      <td>-2.428211e-03</td>\n",
              "      <td>0.000974</td>\n",
              "      <td>...</td>\n",
              "      <td>-0.000979</td>\n",
              "      <td>0.000978</td>\n",
              "      <td>-0.000014</td>\n",
              "      <td>-1.218838e-03</td>\n",
              "      <td>0.001208</td>\n",
              "      <td>-0.000013</td>\n",
              "      <td>-0.000620</td>\n",
              "      <td>0.000606</td>\n",
              "      <td>-0.001238</td>\n",
              "      <td>0.000002</td>\n",
              "      <td>0.000003</td>\n",
              "      <td>-0.001226</td>\n",
              "      <td>0.001005</td>\n",
              "      <td>-0.000008</td>\n",
              "      <td>0.000231</td>\n",
              "      <td>-0.000006</td>\n",
              "      <td>-0.001212</td>\n",
              "      <td>0.000005</td>\n",
              "      <td>0.001220</td>\n",
              "      <td>-1.221212e-03</td>\n",
              "      <td>-0.000016</td>\n",
              "      <td>-0.000007</td>\n",
              "      <td>0.001222</td>\n",
              "      <td>0.000018</td>\n",
              "      <td>-0.001219</td>\n",
              "      <td>0.000006</td>\n",
              "      <td>0.001214</td>\n",
              "      <td>0.001221</td>\n",
              "      <td>-0.000005</td>\n",
              "      <td>-0.000007</td>\n",
              "      <td>-0.001235</td>\n",
              "      <td>0.000027</td>\n",
              "      <td>0.002449</td>\n",
              "      <td>8.619882e-06</td>\n",
              "      <td>0.001209</td>\n",
              "      <td>-0.000004</td>\n",
              "      <td>0.036104</td>\n",
              "      <td>-0.026552</td>\n",
              "      <td>1.267270e+06</td>\n",
              "      <td>1.584088e+06</td>\n",
              "    </tr>\n",
              "  </tbody>\n",
              "</table>\n",
              "<p>5 rows × 211 columns</p>\n",
              "</div>"
            ],
            "text/plain": [
              "   Id  Feature_1  Feature_2  ...  Ret_PlusTwo  Weight_Intraday  Weight_Daily\n",
              "0   1    3.59025  -0.117558  ...     0.028846     1.251508e+06  1.564385e+06\n",
              "1   2    3.59025  -0.117558  ...    -0.010253     1.733950e+06  2.167438e+06\n",
              "2   3    3.59025  -0.696727  ...     0.015711     1.529197e+06  1.911497e+06\n",
              "3   4    3.59025  -0.694350  ...    -0.002190     1.711569e+06  2.139462e+06\n",
              "4   5    6.00000  -1.736489  ...    -0.026552     1.267270e+06  1.584088e+06\n",
              "\n",
              "[5 rows x 211 columns]"
            ]
          },
          "metadata": {
            "tags": []
          },
          "execution_count": 2
        }
      ]
    },
    {
      "cell_type": "code",
      "metadata": {
        "id": "qcEwrmJF1YlE",
        "colab_type": "code",
        "colab": {}
      },
      "source": [
        "#Splitting the dataset into X and Y, ie input and output values\n",
        "X_original = dataset.iloc[:,0:27]\n",
        "Y_original = dataset.iloc[:,145]"
      ],
      "execution_count": 0,
      "outputs": []
    },
    {
      "cell_type": "code",
      "metadata": {
        "id": "XSN2-o081ank",
        "colab_type": "code",
        "outputId": "41a5a2c5-5781-4a0a-cff9-394972a0f3ce",
        "colab": {
          "base_uri": "https://localhost:8080/",
          "height": 224
        }
      },
      "source": [
        "X_original.head()"
      ],
      "execution_count": 4,
      "outputs": [
        {
          "output_type": "execute_result",
          "data": {
            "text/html": [
              "<div>\n",
              "<style scoped>\n",
              "    .dataframe tbody tr th:only-of-type {\n",
              "        vertical-align: middle;\n",
              "    }\n",
              "\n",
              "    .dataframe tbody tr th {\n",
              "        vertical-align: top;\n",
              "    }\n",
              "\n",
              "    .dataframe thead th {\n",
              "        text-align: right;\n",
              "    }\n",
              "</style>\n",
              "<table border=\"1\" class=\"dataframe\">\n",
              "  <thead>\n",
              "    <tr style=\"text-align: right;\">\n",
              "      <th></th>\n",
              "      <th>Id</th>\n",
              "      <th>Feature_1</th>\n",
              "      <th>Feature_2</th>\n",
              "      <th>Feature_3</th>\n",
              "      <th>Feature_4</th>\n",
              "      <th>Feature_5</th>\n",
              "      <th>Feature_6</th>\n",
              "      <th>Feature_7</th>\n",
              "      <th>Feature_8</th>\n",
              "      <th>Feature_9</th>\n",
              "      <th>Feature_10</th>\n",
              "      <th>Feature_11</th>\n",
              "      <th>Feature_12</th>\n",
              "      <th>Feature_13</th>\n",
              "      <th>Feature_14</th>\n",
              "      <th>Feature_15</th>\n",
              "      <th>Feature_16</th>\n",
              "      <th>Feature_17</th>\n",
              "      <th>Feature_18</th>\n",
              "      <th>Feature_19</th>\n",
              "      <th>Feature_20</th>\n",
              "      <th>Feature_21</th>\n",
              "      <th>Feature_22</th>\n",
              "      <th>Feature_23</th>\n",
              "      <th>Feature_24</th>\n",
              "      <th>Feature_25</th>\n",
              "      <th>Ret_MinusTwo</th>\n",
              "    </tr>\n",
              "  </thead>\n",
              "  <tbody>\n",
              "    <tr>\n",
              "      <th>0</th>\n",
              "      <td>1</td>\n",
              "      <td>3.59025</td>\n",
              "      <td>-0.117558</td>\n",
              "      <td>0.558392</td>\n",
              "      <td>0.405572</td>\n",
              "      <td>8.0</td>\n",
              "      <td>0.430972</td>\n",
              "      <td>75751</td>\n",
              "      <td>0.2254</td>\n",
              "      <td>11.0</td>\n",
              "      <td>4.744703</td>\n",
              "      <td>-0.572244</td>\n",
              "      <td>0.49</td>\n",
              "      <td>5.0</td>\n",
              "      <td>1.842984</td>\n",
              "      <td>27.053679</td>\n",
              "      <td>1.0</td>\n",
              "      <td>-0.549725</td>\n",
              "      <td>0.803059</td>\n",
              "      <td>-0.925463</td>\n",
              "      <td>2.0</td>\n",
              "      <td>0.605593</td>\n",
              "      <td>-0.489492</td>\n",
              "      <td>0.799833</td>\n",
              "      <td>-1.209290</td>\n",
              "      <td>-0.329675</td>\n",
              "      <td>0.055275</td>\n",
              "    </tr>\n",
              "    <tr>\n",
              "      <th>1</th>\n",
              "      <td>2</td>\n",
              "      <td>3.59025</td>\n",
              "      <td>-0.117558</td>\n",
              "      <td>0.558392</td>\n",
              "      <td>0.405572</td>\n",
              "      <td>3.0</td>\n",
              "      <td>0.388896</td>\n",
              "      <td>17369</td>\n",
              "      <td>0.0166</td>\n",
              "      <td>13.0</td>\n",
              "      <td>4.744703</td>\n",
              "      <td>-0.409923</td>\n",
              "      <td>0.71</td>\n",
              "      <td>9.0</td>\n",
              "      <td>1.577586</td>\n",
              "      <td>9.546915</td>\n",
              "      <td>1.0</td>\n",
              "      <td>-0.949891</td>\n",
              "      <td>0.917958</td>\n",
              "      <td>-0.897067</td>\n",
              "      <td>9.0</td>\n",
              "      <td>0.886205</td>\n",
              "      <td>-0.151805</td>\n",
              "      <td>1.239856</td>\n",
              "      <td>0.953424</td>\n",
              "      <td>-0.709462</td>\n",
              "      <td>0.009748</td>\n",
              "    </tr>\n",
              "    <tr>\n",
              "      <th>2</th>\n",
              "      <td>3</td>\n",
              "      <td>3.59025</td>\n",
              "      <td>-0.696727</td>\n",
              "      <td>0.739591</td>\n",
              "      <td>-0.167928</td>\n",
              "      <td>9.0</td>\n",
              "      <td>0.471947</td>\n",
              "      <td>8277</td>\n",
              "      <td>0.3650</td>\n",
              "      <td>9.0</td>\n",
              "      <td>5.000000</td>\n",
              "      <td>-0.473024</td>\n",
              "      <td>0.03</td>\n",
              "      <td>6.0</td>\n",
              "      <td>1.871160</td>\n",
              "      <td>9.647559</td>\n",
              "      <td>1.0</td>\n",
              "      <td>-1.132426</td>\n",
              "      <td>1.799813</td>\n",
              "      <td>-1.603488</td>\n",
              "      <td>3.0</td>\n",
              "      <td>0.605593</td>\n",
              "      <td>0.389061</td>\n",
              "      <td>1.728096</td>\n",
              "      <td>-1.798090</td>\n",
              "      <td>-1.019370</td>\n",
              "      <td>0.003077</td>\n",
              "    </tr>\n",
              "    <tr>\n",
              "      <th>3</th>\n",
              "      <td>4</td>\n",
              "      <td>3.59025</td>\n",
              "      <td>-0.694350</td>\n",
              "      <td>1.568248</td>\n",
              "      <td>0.479073</td>\n",
              "      <td>5.0</td>\n",
              "      <td>0.120653</td>\n",
              "      <td>22508</td>\n",
              "      <td>0.2654</td>\n",
              "      <td>13.0</td>\n",
              "      <td>5.000000</td>\n",
              "      <td>-2.138383</td>\n",
              "      <td>0.00</td>\n",
              "      <td>6.0</td>\n",
              "      <td>1.588524</td>\n",
              "      <td>1.801865</td>\n",
              "      <td>1.0</td>\n",
              "      <td>-1.131213</td>\n",
              "      <td>1.565036</td>\n",
              "      <td>-1.205438</td>\n",
              "      <td>7.0</td>\n",
              "      <td>1.148738</td>\n",
              "      <td>-2.440799</td>\n",
              "      <td>1.551425</td>\n",
              "      <td>-1.788725</td>\n",
              "      <td>-0.329675</td>\n",
              "      <td>0.000984</td>\n",
              "    </tr>\n",
              "    <tr>\n",
              "      <th>4</th>\n",
              "      <td>5</td>\n",
              "      <td>6.00000</td>\n",
              "      <td>-1.736489</td>\n",
              "      <td>2.765531</td>\n",
              "      <td>1.245280</td>\n",
              "      <td>7.0</td>\n",
              "      <td>4.866985</td>\n",
              "      <td>22423</td>\n",
              "      <td>0.2138</td>\n",
              "      <td>13.0</td>\n",
              "      <td>4.000000</td>\n",
              "      <td>-4.795565</td>\n",
              "      <td>0.97</td>\n",
              "      <td>5.0</td>\n",
              "      <td>0.842102</td>\n",
              "      <td>9.198895</td>\n",
              "      <td>1.0</td>\n",
              "      <td>6.317498</td>\n",
              "      <td>-3.208872</td>\n",
              "      <td>-1.102189</td>\n",
              "      <td>7.0</td>\n",
              "      <td>3.381040</td>\n",
              "      <td>1.732708</td>\n",
              "      <td>1.965189</td>\n",
              "      <td>-5.993092</td>\n",
              "      <td>3.219820</td>\n",
              "      <td>-0.018224</td>\n",
              "    </tr>\n",
              "  </tbody>\n",
              "</table>\n",
              "</div>"
            ],
            "text/plain": [
              "   Id  Feature_1  Feature_2  ...  Feature_24  Feature_25  Ret_MinusTwo\n",
              "0   1    3.59025  -0.117558  ...   -1.209290   -0.329675      0.055275\n",
              "1   2    3.59025  -0.117558  ...    0.953424   -0.709462      0.009748\n",
              "2   3    3.59025  -0.696727  ...   -1.798090   -1.019370      0.003077\n",
              "3   4    3.59025  -0.694350  ...   -1.788725   -0.329675      0.000984\n",
              "4   5    6.00000  -1.736489  ...   -5.993092    3.219820     -0.018224\n",
              "\n",
              "[5 rows x 27 columns]"
            ]
          },
          "metadata": {
            "tags": []
          },
          "execution_count": 4
        }
      ]
    },
    {
      "cell_type": "code",
      "metadata": {
        "id": "jHzVQbdk1j2p",
        "colab_type": "code",
        "outputId": "9619f5c4-94f0-4bf7-9985-2f6d5d851cd9",
        "colab": {
          "base_uri": "https://localhost:8080/",
          "height": 34
        }
      },
      "source": [
        "X_original.shape"
      ],
      "execution_count": 5,
      "outputs": [
        {
          "output_type": "execute_result",
          "data": {
            "text/plain": [
              "(40000, 27)"
            ]
          },
          "metadata": {
            "tags": []
          },
          "execution_count": 5
        }
      ]
    },
    {
      "cell_type": "code",
      "metadata": {
        "id": "RXczoPMd1lLX",
        "colab_type": "code",
        "outputId": "ff0ebbcd-19f4-4e43-a791-fd64cbcd7074",
        "colab": {
          "base_uri": "https://localhost:8080/",
          "height": 119
        }
      },
      "source": [
        "Y_original.head()"
      ],
      "execution_count": 6,
      "outputs": [
        {
          "output_type": "execute_result",
          "data": {
            "text/plain": [
              "0   -0.000009\n",
              "1   -0.000007\n",
              "2   -0.000270\n",
              "3    0.000153\n",
              "4    0.001208\n",
              "Name: Ret_119, dtype: float64"
            ]
          },
          "metadata": {
            "tags": []
          },
          "execution_count": 6
        }
      ]
    },
    {
      "cell_type": "code",
      "metadata": {
        "id": "fYkPkE6f1mj4",
        "colab_type": "code",
        "outputId": "bc7cc86d-15c6-441f-9a1e-4f6b9aefa728",
        "colab": {
          "base_uri": "https://localhost:8080/",
          "height": 34
        }
      },
      "source": [
        "Y_original.shape"
      ],
      "execution_count": 7,
      "outputs": [
        {
          "output_type": "execute_result",
          "data": {
            "text/plain": [
              "(40000,)"
            ]
          },
          "metadata": {
            "tags": []
          },
          "execution_count": 7
        }
      ]
    },
    {
      "cell_type": "code",
      "metadata": {
        "id": "VH-J0sB01od7",
        "colab_type": "code",
        "colab": {}
      },
      "source": [
        "#Normalizing X_original to X_scaled\n",
        "normalize_X = MinMaxScaler()\n",
        "normalize_X.fit(X_original)\n",
        "X_scaled=normalize_X.transform(X_original)"
      ],
      "execution_count": 0,
      "outputs": []
    },
    {
      "cell_type": "code",
      "metadata": {
        "id": "TszEgxy-19uC",
        "colab_type": "code",
        "colab": {}
      },
      "source": [
        "testdata = pd.read_csv('test_2.csv')\n",
        "testdata.fillna(testdata.mean(axis=0), inplace=True)"
      ],
      "execution_count": 0,
      "outputs": []
    },
    {
      "cell_type": "code",
      "metadata": {
        "id": "SAzPhjSg2Bme",
        "colab_type": "code",
        "colab": {}
      },
      "source": [
        "#Splitting the test data and normalizing\n",
        "X_test = testdata.iloc[:,0:27] \n",
        "Y_test = testdata.iloc[:,145]\n",
        "\n",
        "normalize_X.fit(X_test)\n",
        "X_scaled_test =normalize_X.transform(X_test)"
      ],
      "execution_count": 0,
      "outputs": []
    },
    {
      "cell_type": "code",
      "metadata": {
        "id": "F8Kz0CITLQKb",
        "colab_type": "code",
        "outputId": "d720ec44-81d9-4b29-b7b8-6ac7edc2b4fa",
        "colab": {
          "base_uri": "https://localhost:8080/",
          "height": 238
        }
      },
      "source": [
        "X_scaled_test"
      ],
      "execution_count": 11,
      "outputs": [
        {
          "output_type": "execute_result",
          "data": {
            "text/plain": [
              "array([[0.00000000e+00, 0.00000000e+00, 6.37679216e-01, ...,\n",
              "        7.83682410e-01, 2.48052986e-01, 4.64848302e-01],\n",
              "       [1.07627566e-05, 2.71755589e-01, 4.41862324e-01, ...,\n",
              "        7.13381825e-01, 1.99226110e-01, 4.89662857e-01],\n",
              "       [2.15255131e-05, 2.71755589e-01, 3.78082324e-01, ...,\n",
              "        6.88014797e-01, 2.66320968e-01, 4.41931083e-01],\n",
              "       ...,\n",
              "       [9.99978474e-01, 2.71755589e-01, 4.37891431e-01, ...,\n",
              "        8.29903162e-01, 2.07895939e-01, 4.88644410e-01],\n",
              "       [9.99989237e-01, 1.11111111e-01, 4.41862324e-01, ...,\n",
              "        6.89469275e-01, 8.98537291e-02, 4.83721385e-01],\n",
              "       [1.00000000e+00, 2.71755589e-01, 5.07609473e-01, ...,\n",
              "        4.98240048e-01, 1.07168052e-01, 4.48951065e-01]])"
            ]
          },
          "metadata": {
            "tags": []
          },
          "execution_count": 11
        }
      ]
    },
    {
      "cell_type": "code",
      "metadata": {
        "id": "sFhxmu_JLnEF",
        "colab_type": "code",
        "outputId": "903135ea-965c-4897-ca77-8f356df34564",
        "colab": {
          "base_uri": "https://localhost:8080/",
          "height": 34
        }
      },
      "source": [
        "X_scaled_test.shape"
      ],
      "execution_count": 12,
      "outputs": [
        {
          "output_type": "execute_result",
          "data": {
            "text/plain": [
              "(92914, 27)"
            ]
          },
          "metadata": {
            "tags": []
          },
          "execution_count": 12
        }
      ]
    },
    {
      "cell_type": "code",
      "metadata": {
        "id": "Usg8mi3rsEH2",
        "colab_type": "code",
        "colab": {}
      },
      "source": [
        "#Model 2:LSTM with the original data\n",
        "X_scaled = numpy.reshape(X_scaled, (X_scaled.shape[0], X_scaled.shape[1], 1))"
      ],
      "execution_count": 0,
      "outputs": []
    },
    {
      "cell_type": "code",
      "metadata": {
        "id": "_IzMwH4tsJko",
        "colab_type": "code",
        "colab": {}
      },
      "source": [
        "from keras.layers import Dense\n",
        "from keras.layers import LSTM\n",
        "from keras.layers import Dropout\n"
      ],
      "execution_count": 0,
      "outputs": []
    },
    {
      "cell_type": "code",
      "metadata": {
        "id": "R8K2PCHjrLIi",
        "colab_type": "code",
        "colab": {
          "base_uri": "https://localhost:8080/",
          "height": 139
        },
        "outputId": "78387dbb-c1f1-446c-f566-de52fbb3d6c9"
      },
      "source": [
        "model = Sequential()\n",
        "\n",
        "model.add(LSTM(units = 10, return_sequences = True, input_shape = (X_scaled.shape[1], 1)))\n",
        "model.add(Dropout(0.025))\n",
        "\n",
        "model.add(LSTM(units = 10, return_sequences = True))\n",
        "model.add(Dropout(0.025))\n",
        "\n",
        "model.add(LSTM(units = 10, return_sequences = True))\n",
        "model.add(Dropout(0.025))\n",
        "\n",
        "model.add(LSTM(units = 10))\n",
        "model.add(Dropout(0.025))\n",
        "\n",
        "model.add(Dense(units = 1))\n"
      ],
      "execution_count": 15,
      "outputs": [
        {
          "output_type": "stream",
          "text": [
            "WARNING:tensorflow:From /usr/local/lib/python3.6/dist-packages/tensorflow/python/framework/op_def_library.py:263: colocate_with (from tensorflow.python.framework.ops) is deprecated and will be removed in a future version.\n",
            "Instructions for updating:\n",
            "Colocations handled automatically by placer.\n",
            "WARNING:tensorflow:From /usr/local/lib/python3.6/dist-packages/keras/backend/tensorflow_backend.py:3445: calling dropout (from tensorflow.python.ops.nn_ops) with keep_prob is deprecated and will be removed in a future version.\n",
            "Instructions for updating:\n",
            "Please use `rate` instead of `keep_prob`. Rate should be set to `rate = 1 - keep_prob`.\n"
          ],
          "name": "stdout"
        }
      ]
    },
    {
      "cell_type": "code",
      "metadata": {
        "id": "zX3OvJ8H_m1P",
        "colab_type": "code",
        "colab": {}
      },
      "source": [
        "model.compile(optimizer = 'adam', loss = 'mean_squared_error' ,metrics = ['accuracy'])"
      ],
      "execution_count": 0,
      "outputs": []
    },
    {
      "cell_type": "code",
      "metadata": {
        "id": "X32Xik9Trhwe",
        "colab_type": "code",
        "outputId": "a79c9920-14ad-48ef-93b9-b86c452dc48b",
        "colab": {
          "base_uri": "https://localhost:8080/",
          "height": 385
        }
      },
      "source": [
        "model.fit(X_scaled, Y_original, epochs = 5, batch_size = 16)\n",
        "\n",
        "\n"
      ],
      "execution_count": 18,
      "outputs": [
        {
          "output_type": "stream",
          "text": [
            "Epoch 1/5\n",
            "40000/40000 [==============================] - 232s 6ms/step - loss: 1.3526e-06 - acc: 0.0028\n",
            "Epoch 2/5\n",
            "40000/40000 [==============================] - 254s 6ms/step - loss: 1.3478e-06 - acc: 0.0028\n",
            "Epoch 3/5\n",
            "40000/40000 [==============================] - 253s 6ms/step - loss: 1.3479e-06 - acc: 0.0028\n",
            "Epoch 4/5\n",
            "40000/40000 [==============================] - 251s 6ms/step - loss: 1.3492e-06 - acc: 0.0028\n",
            "Epoch 5/5\n",
            "40000/40000 [==============================] - 253s 6ms/step - loss: 1.3481e-06 - acc: 0.0028\n"
          ],
          "name": "stdout"
        },
        {
          "output_type": "error",
          "ename": "NameError",
          "evalue": "ignored",
          "traceback": [
            "\u001b[0;31m---------------------------------------------------------------------------\u001b[0m",
            "\u001b[0;31mNameError\u001b[0m                                 Traceback (most recent call last)",
            "\u001b[0;32m<ipython-input-18-4cbc4eba4c85>\u001b[0m in \u001b[0;36m<module>\u001b[0;34m()\u001b[0m\n\u001b[1;32m      1\u001b[0m \u001b[0mmodel\u001b[0m\u001b[0;34m.\u001b[0m\u001b[0mfit\u001b[0m\u001b[0;34m(\u001b[0m\u001b[0mX_scaled\u001b[0m\u001b[0;34m,\u001b[0m \u001b[0mY_original\u001b[0m\u001b[0;34m,\u001b[0m \u001b[0mepochs\u001b[0m \u001b[0;34m=\u001b[0m \u001b[0;36m5\u001b[0m\u001b[0;34m,\u001b[0m \u001b[0mbatch_size\u001b[0m \u001b[0;34m=\u001b[0m \u001b[0;36m16\u001b[0m\u001b[0;34m)\u001b[0m\u001b[0;34m\u001b[0m\u001b[0;34m\u001b[0m\u001b[0m\n\u001b[1;32m      2\u001b[0m \u001b[0;34m\u001b[0m\u001b[0m\n\u001b[0;32m----> 3\u001b[0;31m \u001b[0mX_scaled_test\u001b[0m \u001b[0;34m=\u001b[0m \u001b[0mnp\u001b[0m\u001b[0;34m.\u001b[0m\u001b[0mreshape\u001b[0m\u001b[0;34m(\u001b[0m\u001b[0mX_scaled_test\u001b[0m\u001b[0;34m,\u001b[0m \u001b[0;34m(\u001b[0m\u001b[0mX_scaled_test\u001b[0m\u001b[0;34m.\u001b[0m\u001b[0mshape\u001b[0m\u001b[0;34m[\u001b[0m\u001b[0;36m0\u001b[0m\u001b[0;34m]\u001b[0m\u001b[0;34m,\u001b[0m \u001b[0mX_scaled_test\u001b[0m\u001b[0;34m.\u001b[0m\u001b[0mshape\u001b[0m\u001b[0;34m[\u001b[0m\u001b[0;36m1\u001b[0m\u001b[0;34m]\u001b[0m\u001b[0;34m,\u001b[0m \u001b[0;36m1\u001b[0m\u001b[0;34m)\u001b[0m\u001b[0;34m)\u001b[0m\u001b[0;34m\u001b[0m\u001b[0;34m\u001b[0m\u001b[0m\n\u001b[0m\u001b[1;32m      4\u001b[0m \u001b[0mpredicted_stock_price\u001b[0m \u001b[0;34m=\u001b[0m \u001b[0mmodel\u001b[0m\u001b[0;34m.\u001b[0m\u001b[0mpredict\u001b[0m\u001b[0;34m(\u001b[0m\u001b[0mX_scaled_test\u001b[0m\u001b[0;34m)\u001b[0m\u001b[0;34m\u001b[0m\u001b[0;34m\u001b[0m\u001b[0m\n",
            "\u001b[0;31mNameError\u001b[0m: name 'np' is not defined"
          ]
        }
      ]
    },
    {
      "cell_type": "code",
      "metadata": {
        "id": "wcoxYSA3oY80",
        "colab_type": "code",
        "colab": {}
      },
      "source": [
        "X_scaled_test = numpy.reshape(X_scaled_test, (X_scaled_test.shape[0], X_scaled_test.shape[1], 1))\n",
        "predicted_stock_price = model.predict(X_scaled_test)"
      ],
      "execution_count": 0,
      "outputs": []
    },
    {
      "cell_type": "code",
      "metadata": {
        "id": "WE2BofHdsIf_",
        "colab_type": "code",
        "colab": {
          "base_uri": "https://localhost:8080/",
          "height": 295
        },
        "outputId": "b8c669ee-718e-45e1-b71f-cd72f92fc872"
      },
      "source": [
        "plt.plot(predicted_stock_price)\n",
        "plt.plot(Y_test)\n",
        "plt.title('model loss')\n",
        "plt.ylabel('Value')\n",
        "plt.xlabel('Data Points')\n",
        "plt.legend(['Predicted','Real'], loc='upper left')\n",
        "plt.show()\n"
      ],
      "execution_count": 20,
      "outputs": [
        {
          "output_type": "display_data",
          "data": {
            "image/png": "[encoded data removed]",
            "text/plain": [
              "<Figure size 432x288 with 1 Axes>"
            ]
          },
          "metadata": {
            "tags": []
          }
        }
      ]
    },
    {
      "cell_type": "code",
      "metadata": {
        "id": "eJNV2wguodSO",
        "colab_type": "code",
        "colab": {
          "base_uri": "https://localhost:8080/",
          "height": 136
        },
        "outputId": "2020a486-6416-4129-c50c-56476db06822"
      },
      "source": [
        "predicted_stock_price"
      ],
      "execution_count": 21,
      "outputs": [
        {
          "output_type": "execute_result",
          "data": {
            "text/plain": [
              "array([[0.00024458],\n",
              "       [0.00024483],\n",
              "       [0.00024501],\n",
              "       ...,\n",
              "       [0.00024498],\n",
              "       [0.0002447 ],\n",
              "       [0.00024488]], dtype=float32)"
            ]
          },
          "metadata": {
            "tags": []
          },
          "execution_count": 21
        }
      ]
    },
    {
      "cell_type": "code",
      "metadata": {
        "id": "NGznuHiWoj0k",
        "colab_type": "code",
        "colab": {}
      },
      "source": [
        ""
      ],
      "execution_count": 0,
      "outputs": []
    }
  ]
}