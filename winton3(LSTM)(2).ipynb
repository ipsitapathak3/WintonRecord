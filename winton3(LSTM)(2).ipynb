{
  "nbformat": 4,
  "nbformat_minor": 0,
  "metadata": {
    "colab": {
      "name": "winton3.ipynb",
      "version": "0.3.2",
      "provenance": [],
      "collapsed_sections": []
    },
    "kernelspec": {
      "name": "python3",
      "display_name": "Python 3"
    },
    "accelerator": "TPU"
  },
  "cells": [
    {
      "cell_type": "code",
      "metadata": {
        "id": "Jr4rxCpl50az",
        "colab_type": "code",
        "colab": {}
      },
      "source": [
        "import numpy as np\n",
        "import pandas as pd\n",
        "from keras.models import Sequential\n",
        "from keras.layers import Dense\n",
        "from keras.wrappers.scikit_learn import KerasRegressor\n",
        "from sklearn.model_selection import cross_val_score\n",
        "from sklearn.model_selection import KFold\n",
        "from sklearn.preprocessing import StandardScaler\n",
        "from sklearn.pipeline import Pipeline\n",
        "import matplotlib.pyplot as pyplot"
      ],
      "execution_count": 0,
      "outputs": []
    },
    {
      "cell_type": "code",
      "metadata": {
        "id": "1U1vAW-T50a6",
        "colab_type": "code",
        "colab": {}
      },
      "source": [
        "dataset = pandas.read_csv(\"train.csv\")\n",
        "dataset.fillna(dataset.mean(axis=0), inplace= True)"
      ],
      "execution_count": 0,
      "outputs": []
    },
    {
      "cell_type": "code",
      "metadata": {
        "id": "MN_lAHzqDz8-",
        "colab_type": "code",
        "colab": {
          "base_uri": "https://localhost:8080/",
          "height": 34
        },
        "outputId": "fe1c7303-bdae-4a38-c9fb-106337499f60"
      },
      "source": [
        "values = dataset.values\n",
        "\"\"\"X = dataset.iloc[:,0:27]\n",
        "Y = dataset.iloc[:,85]\"\"\""
      ],
      "execution_count": 289,
      "outputs": [
        {
          "output_type": "execute_result",
          "data": {
            "text/plain": [
              "'X = dataset.iloc[:,0:27]\\nY = dataset.iloc[:,85]'"
            ]
          },
          "metadata": {
            "tags": []
          },
          "execution_count": 289
        }
      ]
    },
    {
      "cell_type": "code",
      "metadata": {
        "id": "7zETfZcHD1Hl",
        "colab_type": "code",
        "colab": {}
      },
      "source": [
        "def supervised(data, n=1, m=1, dropnan=True):\n",
        "\tn_vars = 1 if type(data) is list else data.shape[1]\n",
        "\tdf = pd.DataFrame(data)\n",
        "\tcols, names = list(), list()\n",
        "  \n",
        "\n",
        "\tfor i in range(n, 0, -1):\n",
        "\t\tcols.append(df.shift(i))\n",
        "\t\tnames += [('var%d(t-%d)' % (j+1, i)) for j in range(n_vars)]\n",
        "    \n",
        "\n",
        "\tfor i in range(0, m):\n",
        "\t\tcols.append(df.shift(-i))\n",
        "\t\tif i == 0:\n",
        "\t\t\tnames += [('var%d(t)' % (j+1)) for j in range(n_vars)]\n",
        "\t\telse:\n",
        "\t\t\tnames += [('var%d(t+%d)' % (j+1, i)) for j in range(n_vars)]\n",
        "\n",
        "      \n",
        "\tagg = pd.concat(cols, axis=1)\n",
        "\tagg.columns = names \n",
        "\tif dropnan:\n",
        "\t\tagg.dropna(inplace=True)\n",
        "\treturn agg"
      ],
      "execution_count": 0,
      "outputs": []
    },
    {
      "cell_type": "code",
      "metadata": {
        "id": "_fbpd-mmEN2c",
        "colab_type": "code",
        "colab": {}
      },
      "source": [
        "norm = MinMaxScaler(feature_range=(0, 1))\n",
        "scaleddata = norm.fit_transform(values)\n",
        "newdata = supervised(scaleddata, 1, 1)\n",
        "newdata= newdata.values"
      ],
      "execution_count": 0,
      "outputs": []
    },
    {
      "cell_type": "code",
      "metadata": {
        "id": "gA4CfRqLEYP0",
        "colab_type": "code",
        "colab": {}
      },
      "source": [
        "#print(reframed.head())"
      ],
      "execution_count": 0,
      "outputs": []
    },
    {
      "cell_type": "code",
      "metadata": {
        "id": "CfxTIQ9XE35C",
        "colab_type": "code",
        "colab": {}
      },
      "source": [
        "train_X = newdata[:,0:27]\n",
        "train_y = newdata[:,85]"
      ],
      "execution_count": 0,
      "outputs": []
    },
    {
      "cell_type": "code",
      "metadata": {
        "id": "e51B4_RfFDwA",
        "colab_type": "code",
        "colab": {}
      },
      "source": [
        "#print(train_X.shape, train_y.shape, test_X.shape, test_y.shape)"
      ],
      "execution_count": 0,
      "outputs": []
    },
    {
      "cell_type": "code",
      "metadata": {
        "id": "ahkguHYOFTGL",
        "colab_type": "code",
        "colab": {
          "base_uri": "https://localhost:8080/",
          "height": 88
        },
        "outputId": "1a1834ea-f94a-47a3-c67b-16970bf38551"
      },
      "source": [
        "test_data = pandas.read_csv('test_2.csv')\n",
        "test_data.fillna(dataset.mean(axis = 0), inplace = True)\n",
        "test_X = values[:,0:27]\n",
        "test_y = values[:,85]\n",
        "train_X = train_X.reshape((train_X.shape[0], 1, train_X.shape[1]))\n",
        "test_X = test_X.reshape((test_X.shape[0], 1, test_X.shape[1]))\n",
        "print(train_X.shape, train_y.shape, test_X.shape, test_y.shape)"
      ],
      "execution_count": 295,
      "outputs": [
        {
          "output_type": "stream",
          "text": [
            "/usr/local/lib/python3.6/dist-packages/IPython/core/interactiveshell.py:2718: DtypeWarning: Columns (85) have mixed types. Specify dtype option on import or set low_memory=False.\n",
            "  interactivity=interactivity, compiler=compiler, result=result)\n"
          ],
          "name": "stderr"
        },
        {
          "output_type": "stream",
          "text": [
            "(39999, 1, 27) (39999,) (40000, 1, 27) (40000,)\n"
          ],
          "name": "stdout"
        }
      ]
    },
    {
      "cell_type": "code",
      "metadata": {
        "id": "1z5hUQeOFa2O",
        "colab_type": "code",
        "colab": {}
      },
      "source": [
        "from keras.layers.recurrent import LSTM\n",
        "model = Sequential()\n",
        "model.add(LSTM(50, input_shape=(train_X.shape[1], train_X.shape[2])))\n",
        "model.add(Dense(25))\n",
        "model.add(Dense(1))\n",
        "model.compile(loss='mae', optimizer='adam')"
      ],
      "execution_count": 0,
      "outputs": []
    },
    {
      "cell_type": "code",
      "metadata": {
        "id": "Vn6-_izeFqQq",
        "colab_type": "code",
        "colab": {
          "base_uri": "https://localhost:8080/",
          "height": 3434
        },
        "outputId": "3ede1209-ec6c-4ade-ae6d-cb8f874952eb"
      },
      "source": [
        "history = model.fit(train_X, train_y, epochs=100, batch_size=1000, validation_data=(test_X, test_y), verbose=2, shuffle=False)\n"
      ],
      "execution_count": 310,
      "outputs": [
        {
          "output_type": "stream",
          "text": [
            "Train on 39999 samples, validate on 40000 samples\n",
            "Epoch 1/100\n",
            " - 1s - loss: 0.0116 - val_loss: 0.6503\n",
            "Epoch 2/100\n",
            " - 1s - loss: 0.0116 - val_loss: 0.6456\n",
            "Epoch 3/100\n",
            " - 1s - loss: 0.0116 - val_loss: 0.6400\n",
            "Epoch 4/100\n",
            " - 1s - loss: 0.0116 - val_loss: 0.6322\n",
            "Epoch 5/100\n",
            " - 1s - loss: 0.0115 - val_loss: 0.6241\n",
            "Epoch 6/100\n",
            " - 1s - loss: 0.0116 - val_loss: 0.6154\n",
            "Epoch 7/100\n",
            " - 1s - loss: 0.0115 - val_loss: 0.6063\n",
            "Epoch 8/100\n",
            " - 1s - loss: 0.0115 - val_loss: 0.5933\n",
            "Epoch 9/100\n",
            " - 1s - loss: 0.0116 - val_loss: 0.5863\n",
            "Epoch 10/100\n",
            " - 1s - loss: 0.0116 - val_loss: 0.5647\n",
            "Epoch 11/100\n",
            " - 1s - loss: 0.0115 - val_loss: 0.5501\n",
            "Epoch 12/100\n",
            " - 1s - loss: 0.0116 - val_loss: 0.5295\n",
            "Epoch 13/100\n",
            " - 1s - loss: 0.0116 - val_loss: 0.4952\n",
            "Epoch 14/100\n",
            " - 1s - loss: 0.0116 - val_loss: 0.4629\n",
            "Epoch 15/100\n",
            " - 1s - loss: 0.0116 - val_loss: 0.4191\n",
            "Epoch 16/100\n",
            " - 1s - loss: 0.0116 - val_loss: 0.3608\n",
            "Epoch 17/100\n",
            " - 1s - loss: 0.0115 - val_loss: 0.3346\n",
            "Epoch 18/100\n",
            " - 1s - loss: 0.0116 - val_loss: 0.2870\n",
            "Epoch 19/100\n",
            " - 1s - loss: 0.0116 - val_loss: 0.2610\n",
            "Epoch 20/100\n",
            " - 1s - loss: 0.0116 - val_loss: 0.2443\n",
            "Epoch 21/100\n",
            " - 1s - loss: 0.0116 - val_loss: 0.2245\n",
            "Epoch 22/100\n",
            " - 1s - loss: 0.0116 - val_loss: 0.2164\n",
            "Epoch 23/100\n",
            " - 1s - loss: 0.0116 - val_loss: 0.2127\n",
            "Epoch 24/100\n",
            " - 1s - loss: 0.0116 - val_loss: 0.1994\n",
            "Epoch 25/100\n",
            " - 1s - loss: 0.0116 - val_loss: 0.1816\n",
            "Epoch 26/100\n",
            " - 1s - loss: 0.0116 - val_loss: 0.1701\n",
            "Epoch 27/100\n",
            " - 1s - loss: 0.0116 - val_loss: 0.1570\n",
            "Epoch 28/100\n",
            " - 1s - loss: 0.0117 - val_loss: 0.1360\n",
            "Epoch 29/100\n",
            " - 1s - loss: 0.0116 - val_loss: 0.1159\n",
            "Epoch 30/100\n",
            " - 1s - loss: 0.0116 - val_loss: 0.1114\n",
            "Epoch 31/100\n",
            " - 1s - loss: 0.0116 - val_loss: 0.1154\n",
            "Epoch 32/100\n",
            " - 1s - loss: 0.0117 - val_loss: 0.1321\n",
            "Epoch 33/100\n",
            " - 1s - loss: 0.0116 - val_loss: 0.1241\n",
            "Epoch 34/100\n",
            " - 1s - loss: 0.0116 - val_loss: 0.1394\n",
            "Epoch 35/100\n",
            " - 1s - loss: 0.0116 - val_loss: 0.1322\n",
            "Epoch 36/100\n",
            " - 1s - loss: 0.0115 - val_loss: 0.1503\n",
            "Epoch 37/100\n",
            " - 1s - loss: 0.0115 - val_loss: 0.1671\n",
            "Epoch 38/100\n",
            " - 1s - loss: 0.0117 - val_loss: 0.1814\n",
            "Epoch 39/100\n",
            " - 1s - loss: 0.0116 - val_loss: 0.1886\n",
            "Epoch 40/100\n",
            " - 1s - loss: 0.0116 - val_loss: 0.2130\n",
            "Epoch 41/100\n",
            " - 1s - loss: 0.0116 - val_loss: 0.2137\n",
            "Epoch 42/100\n",
            " - 1s - loss: 0.0115 - val_loss: 0.2218\n",
            "Epoch 43/100\n",
            " - 1s - loss: 0.0116 - val_loss: 0.2246\n",
            "Epoch 44/100\n",
            " - 1s - loss: 0.0116 - val_loss: 0.2373\n",
            "Epoch 45/100\n",
            " - 1s - loss: 0.0116 - val_loss: 0.2361\n",
            "Epoch 46/100\n",
            " - 1s - loss: 0.0117 - val_loss: 0.2399\n",
            "Epoch 47/100\n",
            " - 1s - loss: 0.0116 - val_loss: 0.2492\n",
            "Epoch 48/100\n",
            " - 1s - loss: 0.0115 - val_loss: 0.2558\n",
            "Epoch 49/100\n",
            " - 1s - loss: 0.0115 - val_loss: 0.2529\n",
            "Epoch 50/100\n",
            " - 1s - loss: 0.0116 - val_loss: 0.2650\n",
            "Epoch 51/100\n",
            " - 1s - loss: 0.0116 - val_loss: 0.2752\n",
            "Epoch 52/100\n",
            " - 1s - loss: 0.0115 - val_loss: 0.2742\n",
            "Epoch 53/100\n",
            " - 1s - loss: 0.0115 - val_loss: 0.2951\n",
            "Epoch 54/100\n",
            " - 1s - loss: 0.0115 - val_loss: 0.3179\n",
            "Epoch 55/100\n",
            " - 1s - loss: 0.0116 - val_loss: 0.3312\n",
            "Epoch 56/100\n",
            " - 1s - loss: 0.0116 - val_loss: 0.3335\n",
            "Epoch 57/100\n",
            " - 1s - loss: 0.0116 - val_loss: 0.3523\n",
            "Epoch 58/100\n",
            " - 1s - loss: 0.0117 - val_loss: 0.3680\n",
            "Epoch 59/100\n",
            " - 1s - loss: 0.0116 - val_loss: 0.3839\n",
            "Epoch 60/100\n",
            " - 1s - loss: 0.0115 - val_loss: 0.3961\n",
            "Epoch 61/100\n",
            " - 1s - loss: 0.0115 - val_loss: 0.4036\n",
            "Epoch 62/100\n",
            " - 1s - loss: 0.0115 - val_loss: 0.4106\n",
            "Epoch 63/100\n",
            " - 1s - loss: 0.0116 - val_loss: 0.4268\n",
            "Epoch 64/100\n",
            " - 1s - loss: 0.0117 - val_loss: 0.4502\n",
            "Epoch 65/100\n",
            " - 1s - loss: 0.0116 - val_loss: 0.4728\n",
            "Epoch 66/100\n",
            " - 1s - loss: 0.0117 - val_loss: 0.4807\n",
            "Epoch 67/100\n",
            " - 1s - loss: 0.0116 - val_loss: 0.4845\n",
            "Epoch 68/100\n",
            " - 1s - loss: 0.0116 - val_loss: 0.4888\n",
            "Epoch 69/100\n",
            " - 1s - loss: 0.0116 - val_loss: 0.5046\n",
            "Epoch 70/100\n",
            " - 1s - loss: 0.0116 - val_loss: 0.5074\n",
            "Epoch 71/100\n",
            " - 1s - loss: 0.0117 - val_loss: 0.5077\n",
            "Epoch 72/100\n",
            " - 1s - loss: 0.0116 - val_loss: 0.5066\n",
            "Epoch 73/100\n",
            " - 1s - loss: 0.0115 - val_loss: 0.5093\n",
            "Epoch 74/100\n",
            " - 1s - loss: 0.0116 - val_loss: 0.5194\n",
            "Epoch 75/100\n",
            " - 1s - loss: 0.0115 - val_loss: 0.5316\n",
            "Epoch 76/100\n",
            " - 1s - loss: 0.0116 - val_loss: 0.5361\n",
            "Epoch 77/100\n",
            " - 1s - loss: 0.0116 - val_loss: 0.5467\n",
            "Epoch 78/100\n",
            " - 1s - loss: 0.0115 - val_loss: 0.5532\n",
            "Epoch 79/100\n",
            " - 1s - loss: 0.0115 - val_loss: 0.5635\n",
            "Epoch 80/100\n",
            " - 1s - loss: 0.0116 - val_loss: 0.5740\n",
            "Epoch 81/100\n",
            " - 1s - loss: 0.0116 - val_loss: 0.5817\n",
            "Epoch 82/100\n",
            " - 1s - loss: 0.0116 - val_loss: 0.5632\n",
            "Epoch 83/100\n",
            " - 1s - loss: 0.0116 - val_loss: 0.5576\n",
            "Epoch 84/100\n",
            " - 1s - loss: 0.0115 - val_loss: 0.5796\n",
            "Epoch 85/100\n",
            " - 1s - loss: 0.0115 - val_loss: 0.5917\n",
            "Epoch 86/100\n",
            " - 1s - loss: 0.0116 - val_loss: 0.5902\n",
            "Epoch 87/100\n",
            " - 1s - loss: 0.0116 - val_loss: 0.5799\n",
            "Epoch 88/100\n",
            " - 1s - loss: 0.0116 - val_loss: 0.5711\n",
            "Epoch 89/100\n",
            " - 1s - loss: 0.0116 - val_loss: 0.5679\n",
            "Epoch 90/100\n",
            " - 1s - loss: 0.0115 - val_loss: 0.5667\n",
            "Epoch 91/100\n",
            " - 1s - loss: 0.0116 - val_loss: 0.5705\n",
            "Epoch 92/100\n",
            " - 1s - loss: 0.0116 - val_loss: 0.5670\n",
            "Epoch 93/100\n",
            " - 1s - loss: 0.0115 - val_loss: 0.5622\n",
            "Epoch 94/100\n",
            " - 1s - loss: 0.0116 - val_loss: 0.5726\n",
            "Epoch 95/100\n",
            " - 1s - loss: 0.0115 - val_loss: 0.5710\n",
            "Epoch 96/100\n",
            " - 1s - loss: 0.0115 - val_loss: 0.5774\n",
            "Epoch 97/100\n",
            " - 1s - loss: 0.0116 - val_loss: 0.5856\n",
            "Epoch 98/100\n",
            " - 1s - loss: 0.0115 - val_loss: 0.5852\n",
            "Epoch 99/100\n",
            " - 1s - loss: 0.0116 - val_loss: 0.5865\n",
            "Epoch 100/100\n",
            " - 1s - loss: 0.0117 - val_loss: 0.5790\n"
          ],
          "name": "stdout"
        }
      ]
    },
    {
      "cell_type": "code",
      "metadata": {
        "id": "6mnN2bIIF_WH",
        "colab_type": "code",
        "colab": {
          "base_uri": "https://localhost:8080/",
          "height": 269
        },
        "outputId": "eb89ecdb-14d4-4081-b391-9628cc9be8d4"
      },
      "source": [
        "pyplot.plot(history.history['loss'], label='train')\n",
        "pyplot.plot(history.history['val_loss'], label='test')\n",
        "pyplot.legend()\n",
        "pyplot.show()"
      ],
      "execution_count": 311,
      "outputs": [
        {
          "output_type": "display_data",
          "data": {
            "image/png": "[encoded data removed]",
            "text/plain": [
              "<Figure size 432x288 with 1 Axes>"
            ]
          },
          "metadata": {
            "tags": []
          }
        }
      ]
    },
    {
      "cell_type": "code",
      "metadata": {
        "id": "aTRKDCNiGL-t",
        "colab_type": "code",
        "colab": {}
      },
      "source": [
        ""
      ],
      "execution_count": 0,
      "outputs": []
    }
  ]
}